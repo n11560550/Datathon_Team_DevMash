{
  "nbformat": 4,
  "nbformat_minor": 0,
  "metadata": {
    "colab": {
      "provenance": []
    },
    "kernelspec": {
      "name": "python3",
      "display_name": "Python 3"
    },
    "language_info": {
      "name": "python"
    }
  },
  "cells": [
    {
      "cell_type": "markdown",
      "source": [
        "**Install the antigranular package**"
      ],
      "metadata": {
        "id": "lzbEm8iz6Mrh"
      }
    },
    {
      "cell_type": "code",
      "execution_count": 235,
      "metadata": {
        "colab": {
          "base_uri": "https://localhost:8080/"
        },
        "id": "IINr503CtmaK",
        "outputId": "ae322a8a-3077-495b-ff97-92d1da7102df"
      },
      "outputs": [
        {
          "output_type": "stream",
          "name": "stdout",
          "text": [
            "Requirement already satisfied: antigranular in /usr/local/lib/python3.10/dist-packages (0.2.12)\n",
            "Requirement already satisfied: diffprivlib<0.7.0,>=0.6.2 in /usr/local/lib/python3.10/dist-packages (from antigranular) (0.6.3)\n",
            "Requirement already satisfied: ipython<8.0.0,>=7.34.0 in /usr/local/lib/python3.10/dist-packages (from antigranular) (7.34.0)\n",
            "Requirement already satisfied: oblv-client<0.2.0,>=0.1.15 in /usr/local/lib/python3.10/dist-packages (from antigranular) (0.1.15)\n",
            "Requirement already satisfied: onnx<2.0.0,>=1.14.0 in /usr/local/lib/python3.10/dist-packages (from antigranular) (1.15.0)\n",
            "Requirement already satisfied: pandas<2.0.0,>=1.5.3 in /usr/local/lib/python3.10/dist-packages (from antigranular) (1.5.3)\n",
            "Requirement already satisfied: pydantic<2.0.0,>=1.10.7 in /usr/local/lib/python3.10/dist-packages (from antigranular) (1.10.13)\n",
            "Requirement already satisfied: requests<3.0.0,>=2.31.0 in /usr/local/lib/python3.10/dist-packages (from antigranular) (2.31.0)\n",
            "Requirement already satisfied: numpy>=1.21.6 in /usr/local/lib/python3.10/dist-packages (from diffprivlib<0.7.0,>=0.6.2->antigranular) (1.23.5)\n",
            "Requirement already satisfied: scikit-learn>=0.24.2 in /usr/local/lib/python3.10/dist-packages (from diffprivlib<0.7.0,>=0.6.2->antigranular) (1.2.2)\n",
            "Requirement already satisfied: scipy>=1.7.3 in /usr/local/lib/python3.10/dist-packages (from diffprivlib<0.7.0,>=0.6.2->antigranular) (1.11.3)\n",
            "Requirement already satisfied: joblib>=0.16.0 in /usr/local/lib/python3.10/dist-packages (from diffprivlib<0.7.0,>=0.6.2->antigranular) (1.3.2)\n",
            "Requirement already satisfied: setuptools>=49.0.0 in /usr/local/lib/python3.10/dist-packages (from diffprivlib<0.7.0,>=0.6.2->antigranular) (67.7.2)\n",
            "Requirement already satisfied: jedi>=0.16 in /usr/local/lib/python3.10/dist-packages (from ipython<8.0.0,>=7.34.0->antigranular) (0.19.1)\n",
            "Requirement already satisfied: decorator in /usr/local/lib/python3.10/dist-packages (from ipython<8.0.0,>=7.34.0->antigranular) (4.4.2)\n",
            "Requirement already satisfied: pickleshare in /usr/local/lib/python3.10/dist-packages (from ipython<8.0.0,>=7.34.0->antigranular) (0.7.5)\n",
            "Requirement already satisfied: traitlets>=4.2 in /usr/local/lib/python3.10/dist-packages (from ipython<8.0.0,>=7.34.0->antigranular) (5.7.1)\n",
            "Requirement already satisfied: prompt-toolkit!=3.0.0,!=3.0.1,<3.1.0,>=2.0.0 in /usr/local/lib/python3.10/dist-packages (from ipython<8.0.0,>=7.34.0->antigranular) (3.0.39)\n",
            "Requirement already satisfied: pygments in /usr/local/lib/python3.10/dist-packages (from ipython<8.0.0,>=7.34.0->antigranular) (2.16.1)\n",
            "Requirement already satisfied: backcall in /usr/local/lib/python3.10/dist-packages (from ipython<8.0.0,>=7.34.0->antigranular) (0.2.0)\n",
            "Requirement already satisfied: matplotlib-inline in /usr/local/lib/python3.10/dist-packages (from ipython<8.0.0,>=7.34.0->antigranular) (0.1.6)\n",
            "Requirement already satisfied: pexpect>4.3 in /usr/local/lib/python3.10/dist-packages (from ipython<8.0.0,>=7.34.0->antigranular) (4.8.0)\n",
            "Requirement already satisfied: urllib3 in /usr/local/lib/python3.10/dist-packages (from oblv-client<0.2.0,>=0.1.15->antigranular) (2.0.7)\n",
            "Requirement already satisfied: protobuf>=3.20.2 in /usr/local/lib/python3.10/dist-packages (from onnx<2.0.0,>=1.14.0->antigranular) (3.20.3)\n",
            "Requirement already satisfied: python-dateutil>=2.8.1 in /usr/local/lib/python3.10/dist-packages (from pandas<2.0.0,>=1.5.3->antigranular) (2.8.2)\n",
            "Requirement already satisfied: pytz>=2020.1 in /usr/local/lib/python3.10/dist-packages (from pandas<2.0.0,>=1.5.3->antigranular) (2023.3.post1)\n",
            "Requirement already satisfied: typing-extensions>=4.2.0 in /usr/local/lib/python3.10/dist-packages (from pydantic<2.0.0,>=1.10.7->antigranular) (4.5.0)\n",
            "Requirement already satisfied: charset-normalizer<4,>=2 in /usr/local/lib/python3.10/dist-packages (from requests<3.0.0,>=2.31.0->antigranular) (3.3.1)\n",
            "Requirement already satisfied: idna<4,>=2.5 in /usr/local/lib/python3.10/dist-packages (from requests<3.0.0,>=2.31.0->antigranular) (3.4)\n",
            "Requirement already satisfied: certifi>=2017.4.17 in /usr/local/lib/python3.10/dist-packages (from requests<3.0.0,>=2.31.0->antigranular) (2023.7.22)\n",
            "Requirement already satisfied: parso<0.9.0,>=0.8.3 in /usr/local/lib/python3.10/dist-packages (from jedi>=0.16->ipython<8.0.0,>=7.34.0->antigranular) (0.8.3)\n",
            "Requirement already satisfied: ptyprocess>=0.5 in /usr/local/lib/python3.10/dist-packages (from pexpect>4.3->ipython<8.0.0,>=7.34.0->antigranular) (0.7.0)\n",
            "Requirement already satisfied: wcwidth in /usr/local/lib/python3.10/dist-packages (from prompt-toolkit!=3.0.0,!=3.0.1,<3.1.0,>=2.0.0->ipython<8.0.0,>=7.34.0->antigranular) (0.2.8)\n",
            "Requirement already satisfied: six>=1.5 in /usr/local/lib/python3.10/dist-packages (from python-dateutil>=2.8.1->pandas<2.0.0,>=1.5.3->antigranular) (1.16.0)\n",
            "Requirement already satisfied: threadpoolctl>=2.0.0 in /usr/local/lib/python3.10/dist-packages (from scikit-learn>=0.24.2->diffprivlib<0.7.0,>=0.6.2->antigranular) (3.2.0)\n"
          ]
        }
      ],
      "source": [
        "pip install antigranular"
      ]
    },
    {
      "cell_type": "markdown",
      "source": [
        "**Loading the session**"
      ],
      "metadata": {
        "id": "v2mdovYC6c9-"
      }
    },
    {
      "cell_type": "code",
      "source": [
        "import antigranular as ag\n",
        "session = ag.login(\"SAcWBALK/NtNdzAbCgD/CFzMy4xX1YKq\", \"23+LBLHbpwMWmTvNEVsSKK0QOwOYNb9b8abwB9y4FTV1x3xQs7aOEo8ORGvTaI7x\", competition = \"UN Datathon PETs Track\")"
      ],
      "metadata": {
        "colab": {
          "base_uri": "https://localhost:8080/",
          "height": 69
        },
        "id": "b0Tfdseetya6",
        "outputId": "cf221679-4ba3-4cb7-b43d-a99cd4ec7d6f"
      },
      "execution_count": 236,
      "outputs": [
        {
          "output_type": "display_data",
          "data": {
            "text/plain": [
              "<IPython.core.display.HTML object>"
            ],
            "text/html": []
          },
          "metadata": {}
        },
        {
          "output_type": "stream",
          "name": "stdout",
          "text": [
            "Connected to Antigranular server session id: d9a2e769-4373-4013-a2fe-7b012d3fdc63, the session will time out if idle for 60 minutes\n",
            "Cell magic '%%ag' registered successfully, use `%%ag` in a notebook cell to execute your python code on Antigranular private python server\n",
            "🚀 Everything's set up and ready to roll!\n"
          ]
        }
      ]
    },
    {
      "cell_type": "markdown",
      "source": [
        "**Loading the datasets**"
      ],
      "metadata": {
        "id": "XQSrYa1U6kQ5"
      }
    },
    {
      "cell_type": "code",
      "source": [
        "%%ag\n",
        "undata_shock = load_dataset(\"undata_shock\")\n",
        "undata_income = load_dataset(\"undata_income\")\n",
        "undata_fcs = load_dataset(\"undata_fcs\")\n",
        "undata_fies = load_dataset(\"undata_fies\")\n",
        "undata_adm = load_dataset(\"undata_adm\")"
      ],
      "metadata": {
        "id": "1aBZt59muB_o"
      },
      "execution_count": 239,
      "outputs": []
    },
    {
      "cell_type": "markdown",
      "source": [
        "**Getting the descriptions of the datasets**"
      ],
      "metadata": {
        "id": "tIEDHcdy6q17"
      }
    },
    {
      "cell_type": "code",
      "source": [
        "%%ag\n",
        "\n",
        "ag_print(\"undata_shock Details: \\n\")\n",
        "ag_print(\"Columns: \\n\", undata_shock.columns)\n",
        "ag_print(\"Metadata: \\n\", undata_shock.metadata)\n",
        "ag_print(\"Dtypes: \\n\", undata_shock.dtypes)\n"
      ],
      "metadata": {
        "colab": {
          "base_uri": "https://localhost:8080/"
        },
        "id": "3V7l8CeFvQEI",
        "outputId": "e6b52bc3-4c33-4210-cede-22a53c90e0b6"
      },
      "execution_count": 240,
      "outputs": [
        {
          "output_type": "stream",
          "name": "stdout",
          "text": [
            "undata_shock Details: \n",
            "\n",
            "Columns: \n",
            " Index(['objectid', 'shock_noshock', 'shock_sicknessordeathofhh',\n",
            "       'shock_lostemplorwork', 'shock_otherintrahhshock',\n",
            "       'shock_higherfoodprices', 'shock_higherfuelprices', 'shock_mvtrestrict',\n",
            "       'shock_othereconomicshock', 'shock_pestoutbreak', 'shock_plantdisease',\n",
            "       'shock_animaldisease', 'shock_napasture', 'shock_othercropandlivests',\n",
            "       'shock_coldtemporhail', 'shock_flood', 'shock_hurricane',\n",
            "       'shock_drought', 'shock_earthquake', 'shock_landslides',\n",
            "       'shock_firenatural', 'shock_othernathazard', 'shock_violenceinsecconf',\n",
            "       'shock_theftofprodassets', 'shock_firemanmade',\n",
            "       'shock_othermanmadehazard', 'shock_dk', 'shock_ref'],\n",
            "      dtype='object')\n",
            "Metadata: \n",
            " {'objectid': (3496, 239871), 'shock_noshock': (0.0, 1.0), 'shock_sicknessordeathofhh': (0.0, 1.0), 'shock_lostemplorwork': (0.0, 1.0), 'shock_otherintrahhshock': (0.0, 1.0), 'shock_higherfoodprices': (0.0, 1.0), 'shock_higherfuelprices': (0.0, 1.0), 'shock_mvtrestrict': (0.0, 1.0), 'shock_othereconomicshock': (0.0, 1.0), 'shock_pestoutbreak': (0.0, 1.0), 'shock_plantdisease': (0.0, 1.0), 'shock_animaldisease': (0.0, 1.0), 'shock_napasture': (0.0, 1.0), 'shock_othercropandlivests': (0.0, 1.0), 'shock_coldtemporhail': (0.0, 1.0), 'shock_flood': (0.0, 1.0), 'shock_hurricane': (0.0, 1.0), 'shock_drought': (0.0, 1.0), 'shock_earthquake': (0.0, 1.0), 'shock_landslides': (0.0, 1.0), 'shock_firenatural': (0.0, 1.0), 'shock_othernathazard': (0.0, 1.0), 'shock_violenceinsecconf': (0.0, 1.0), 'shock_theftofprodassets': (0.0, 1.0), 'shock_firemanmade': (0.0, 1.0), 'shock_othermanmadehazard': (0.0, 1.0), 'shock_dk': (0.0, 1.0), 'shock_ref': (0.0, 1.0)}\n",
            "Dtypes: \n",
            " objectid                       int64\n",
            "shock_noshock                float64\n",
            "shock_sicknessordeathofhh    float64\n",
            "shock_lostemplorwork         float64\n",
            "shock_otherintrahhshock      float64\n",
            "shock_higherfoodprices       float64\n",
            "shock_higherfuelprices       float64\n",
            "shock_mvtrestrict            float64\n",
            "shock_othereconomicshock     float64\n",
            "shock_pestoutbreak           float64\n",
            "shock_plantdisease           float64\n",
            "shock_animaldisease          float64\n",
            "shock_napasture              float64\n",
            "shock_othercropandlivests    float64\n",
            "shock_coldtemporhail         float64\n",
            "shock_flood                  float64\n",
            "shock_hurricane              float64\n",
            "shock_drought                float64\n",
            "shock_earthquake             float64\n",
            "shock_landslides             float64\n",
            "shock_firenatural            float64\n",
            "shock_othernathazard         float64\n",
            "shock_violenceinsecconf      float64\n",
            "shock_theftofprodassets      float64\n",
            "shock_firemanmade            float64\n",
            "shock_othermanmadehazard     float64\n",
            "shock_dk                     float64\n",
            "shock_ref                    float64\n",
            "dtype: object\n",
            "\n"
          ]
        }
      ]
    },
    {
      "cell_type": "code",
      "source": [
        "%%ag\n",
        "\n",
        "ag_print(\"undata_income Details: \\n\")\n",
        "ag_print(\"Columns: \\n\", undata_income.columns)\n",
        "ag_print(\"Metadata: \\n\", undata_income.metadata)\n",
        "ag_print(\"Dtypes: \\n\", undata_income.dtypes)"
      ],
      "metadata": {
        "colab": {
          "base_uri": "https://localhost:8080/"
        },
        "id": "EXdprSDtwUaT",
        "outputId": "7a2322dc-bd3f-44d4-9c2b-da3235afeaad"
      },
      "execution_count": 241,
      "outputs": [
        {
          "output_type": "stream",
          "name": "stdout",
          "text": [
            "undata_income Details: \n",
            "\n",
            "Columns: \n",
            " Index(['objectid', 'income_main', 'income_main_amount', 'income_main_gender',\n",
            "       'income_main_control', 'income_main_comp', 'income_sec',\n",
            "       'income_sec_amount', 'income_sec_gender', 'income_sec_control',\n",
            "       'income_sec_comp', 'income_third', 'income_third_amount',\n",
            "       'income_third_gender', 'income_third_control', 'income_third_comp'],\n",
            "      dtype='object')\n",
            "Metadata: \n",
            " {'objectid': (3496, 239871), 'income_main': (1.0, 999.0), 'income_main_amount': (0.0, 1480000000.0), 'income_main_gender': (0.0, 999.0), 'income_main_control': (0.0, 999.0), 'income_main_comp': (1.0, 999.0), 'income_sec': (1.0, 999.0), 'income_sec_amount': (0.0, 15000000.0), 'income_sec_gender': (0.0, 999.0), 'income_sec_control': (0.0, 999.0), 'income_sec_comp': (1.0, 999.0), 'income_third': (1.0, 999.0), 'income_third_amount': (0.0, 10000000.0), 'income_third_gender': (0.0, 999.0), 'income_third_control': (0.0, 999.0), 'income_third_comp': (1.0, 999.0)}\n",
            "Dtypes: \n",
            " objectid                  int64\n",
            "income_main             float64\n",
            "income_main_amount      float64\n",
            "income_main_gender      float64\n",
            "income_main_control     float64\n",
            "income_main_comp        float64\n",
            "income_sec              float64\n",
            "income_sec_amount       float64\n",
            "income_sec_gender       float64\n",
            "income_sec_control      float64\n",
            "income_sec_comp         float64\n",
            "income_third            float64\n",
            "income_third_amount     float64\n",
            "income_third_gender     float64\n",
            "income_third_control    float64\n",
            "income_third_comp       float64\n",
            "dtype: object\n",
            "\n"
          ]
        }
      ]
    },
    {
      "cell_type": "code",
      "source": [
        "%%ag\n",
        "\n",
        "ag_print(\"undata_fcs Details: \\n\")\n",
        "ag_print(\"Columns: \\n\", undata_fcs.columns)\n",
        "ag_print(\"Metadata: \\n\", undata_fcs.metadata)\n",
        "ag_print(\"Dtypes: \\n\", undata_fcs.dtypes)"
      ],
      "metadata": {
        "colab": {
          "base_uri": "https://localhost:8080/"
        },
        "id": "Yh73JzMDufLw",
        "outputId": "88a5e1c4-202b-4cd4-dbad-d6d0bb6b5dc7"
      },
      "execution_count": 242,
      "outputs": [
        {
          "output_type": "stream",
          "name": "stdout",
          "text": [
            "undata_fcs Details: \n",
            "\n",
            "Columns: \n",
            " Index(['objectid', 'fcs', 'fcs_staple_days', 'fcs_pulses_days',\n",
            "       'fcs_vegetables_days', 'fcs_fruit_days', 'fcs_meat_fish_days',\n",
            "       'fcs_dairy_days', 'fcs_sugar_days', 'fcs_oil_days',\n",
            "       'fcs_condiments_days'],\n",
            "      dtype='object')\n",
            "Metadata: \n",
            " {'objectid': (3496, 239871), 'fcs': (0.0, 112.0), 'fcs_staple_days': (0.0, 7.0), 'fcs_pulses_days': (0.0, 7.0), 'fcs_vegetables_days': (0.0, 7.0), 'fcs_fruit_days': (0.0, 7.0), 'fcs_meat_fish_days': (0.0, 7.0), 'fcs_dairy_days': (0.0, 7.0), 'fcs_sugar_days': (0.0, 7.0), 'fcs_oil_days': (0.0, 7.0), 'fcs_condiments_days': (0.0, 7.0)}\n",
            "Dtypes: \n",
            " objectid                 int64\n",
            "fcs                    float64\n",
            "fcs_staple_days        float64\n",
            "fcs_pulses_days        float64\n",
            "fcs_vegetables_days    float64\n",
            "fcs_fruit_days         float64\n",
            "fcs_meat_fish_days     float64\n",
            "fcs_dairy_days         float64\n",
            "fcs_sugar_days         float64\n",
            "fcs_oil_days           float64\n",
            "fcs_condiments_days    float64\n",
            "dtype: object\n",
            "\n"
          ]
        }
      ]
    },
    {
      "cell_type": "code",
      "source": [
        "%%ag\n",
        "\n",
        "ag_print(\"undata_fies Details: \\n\")\n",
        "ag_print(\"Columns: \\n\", undata_fies.columns)\n",
        "ag_print(\"Metadata: \\n\", undata_fies.metadata)\n",
        "ag_print(\"Dtypes: \\n\", undata_fies.dtypes)\n"
      ],
      "metadata": {
        "colab": {
          "base_uri": "https://localhost:8080/"
        },
        "id": "QHqzvCJ0yAau",
        "outputId": "cb380610-1b0e-4368-d39f-9ddbfcbe6d79"
      },
      "execution_count": 243,
      "outputs": [
        {
          "output_type": "stream",
          "name": "stdout",
          "text": [
            "undata_fies Details: \n",
            "\n",
            "Columns: \n",
            " Index(['objectid', 'fies_worried', 'fies_healthy', 'fies_fewfoods',\n",
            "       'fies_skipped', 'fies_ateless', 'fies_ranout', 'fies_ranout_hhs',\n",
            "       'fies_hungry', 'fies_hungry_hhs', 'fies_whlday', 'fies_whlday_hhs',\n",
            "       'fies_rawscore'],\n",
            "      dtype='object')\n",
            "Metadata: \n",
            " {'objectid': (3496, 239871), 'fies_worried': (0.0, 999.0), 'fies_healthy': (0.0, 999.0), 'fies_fewfoods': (0.0, 999.0), 'fies_skipped': (0.0, 999.0), 'fies_ateless': (0.0, 999.0), 'fies_ranout': (0.0, 999.0), 'fies_ranout_hhs': (0.0, 888.0), 'fies_hungry': (0.0, 999.0), 'fies_hungry_hhs': (0.0, 999.0), 'fies_whlday': (0.0, 999.0), 'fies_whlday_hhs': (0.0, 888.0), 'fies_rawscore': (0.0, 14.0)}\n",
            "Dtypes: \n",
            " objectid             int64\n",
            "fies_worried       float64\n",
            "fies_healthy       float64\n",
            "fies_fewfoods      float64\n",
            "fies_skipped       float64\n",
            "fies_ateless       float64\n",
            "fies_ranout        float64\n",
            "fies_ranout_hhs    float64\n",
            "fies_hungry        float64\n",
            "fies_hungry_hhs    float64\n",
            "fies_whlday        float64\n",
            "fies_whlday_hhs    float64\n",
            "fies_rawscore      float64\n",
            "dtype: object\n",
            "\n"
          ]
        }
      ]
    },
    {
      "cell_type": "markdown",
      "source": [
        "**Merging the datasets**"
      ],
      "metadata": {
        "id": "aEo74Jtv63XK"
      }
    },
    {
      "cell_type": "code",
      "source": [
        "%%ag\n",
        "\n",
        "import op_pandas\n",
        "\n",
        "joined_data = op_pandas.merge(undata_fcs, undata_shock, on=\"objectid\")\n",
        "\n",
        "ag_print(\"Joined Data Columns: \\n\", joined_data.columns)"
      ],
      "metadata": {
        "colab": {
          "base_uri": "https://localhost:8080/"
        },
        "id": "AxRIAITZwaBN",
        "outputId": "6fe07c26-26b4-4d8f-899a-74a7f5829614"
      },
      "execution_count": 244,
      "outputs": [
        {
          "output_type": "stream",
          "name": "stdout",
          "text": [
            "Joined Data Columns: \n",
            " Index(['objectid', 'fcs', 'fcs_staple_days', 'fcs_pulses_days',\n",
            "       'fcs_vegetables_days', 'fcs_fruit_days', 'fcs_meat_fish_days',\n",
            "       'fcs_dairy_days', 'fcs_sugar_days', 'fcs_oil_days',\n",
            "       'fcs_condiments_days', 'shock_noshock', 'shock_sicknessordeathofhh',\n",
            "       'shock_lostemplorwork', 'shock_otherintrahhshock',\n",
            "       'shock_higherfoodprices', 'shock_higherfuelprices', 'shock_mvtrestrict',\n",
            "       'shock_othereconomicshock', 'shock_pestoutbreak', 'shock_plantdisease',\n",
            "       'shock_animaldisease', 'shock_napasture', 'shock_othercropandlivests',\n",
            "       'shock_coldtemporhail', 'shock_flood', 'shock_hurricane',\n",
            "       'shock_drought', 'shock_earthquake', 'shock_landslides',\n",
            "       'shock_firenatural', 'shock_othernathazard', 'shock_violenceinsecconf',\n",
            "       'shock_theftofprodassets', 'shock_firemanmade',\n",
            "       'shock_othermanmadehazard', 'shock_dk', 'shock_ref'],\n",
            "      dtype='object')\n",
            "\n"
          ]
        }
      ]
    },
    {
      "cell_type": "code",
      "source": [
        "%%ag\n",
        "\n",
        "import op_pandas\n",
        "\n",
        "joined_data = op_pandas.merge(joined_data, undata_income, on=\"objectid\")\n",
        "\n",
        "ag_print(\"Joined Data Columns: \\n\", joined_data.columns)"
      ],
      "metadata": {
        "colab": {
          "base_uri": "https://localhost:8080/"
        },
        "id": "6xiKZea_xWQ0",
        "outputId": "b0fac00c-219d-4f77-a5dd-9fc9f2457aff"
      },
      "execution_count": 245,
      "outputs": [
        {
          "output_type": "stream",
          "name": "stdout",
          "text": [
            "Joined Data Columns: \n",
            " Index(['objectid', 'fcs', 'fcs_staple_days', 'fcs_pulses_days',\n",
            "       'fcs_vegetables_days', 'fcs_fruit_days', 'fcs_meat_fish_days',\n",
            "       'fcs_dairy_days', 'fcs_sugar_days', 'fcs_oil_days',\n",
            "       'fcs_condiments_days', 'shock_noshock', 'shock_sicknessordeathofhh',\n",
            "       'shock_lostemplorwork', 'shock_otherintrahhshock',\n",
            "       'shock_higherfoodprices', 'shock_higherfuelprices', 'shock_mvtrestrict',\n",
            "       'shock_othereconomicshock', 'shock_pestoutbreak', 'shock_plantdisease',\n",
            "       'shock_animaldisease', 'shock_napasture', 'shock_othercropandlivests',\n",
            "       'shock_coldtemporhail', 'shock_flood', 'shock_hurricane',\n",
            "       'shock_drought', 'shock_earthquake', 'shock_landslides',\n",
            "       'shock_firenatural', 'shock_othernathazard', 'shock_violenceinsecconf',\n",
            "       'shock_theftofprodassets', 'shock_firemanmade',\n",
            "       'shock_othermanmadehazard', 'shock_dk', 'shock_ref', 'income_main',\n",
            "       'income_main_amount', 'income_main_gender', 'income_main_control',\n",
            "       'income_main_comp', 'income_sec', 'income_sec_amount',\n",
            "       'income_sec_gender', 'income_sec_control', 'income_sec_comp',\n",
            "       'income_third', 'income_third_amount', 'income_third_gender',\n",
            "       'income_third_control', 'income_third_comp'],\n",
            "      dtype='object')\n",
            "\n"
          ]
        }
      ]
    },
    {
      "cell_type": "code",
      "source": [
        "%%ag\n",
        "\n",
        "import op_pandas\n",
        "\n",
        "joined_data = op_pandas.merge(joined_data, undata_fies, on=\"objectid\")\n",
        "\n",
        "ag_print(\"Joined Data Columns: \\n\", joined_data.columns)"
      ],
      "metadata": {
        "colab": {
          "base_uri": "https://localhost:8080/"
        },
        "id": "O6mvn9J9zfLw",
        "outputId": "bb8e5d84-27ae-4cd0-a27f-5ecc0533f31d"
      },
      "execution_count": 246,
      "outputs": [
        {
          "output_type": "stream",
          "name": "stdout",
          "text": [
            "Joined Data Columns: \n",
            " Index(['objectid', 'fcs', 'fcs_staple_days', 'fcs_pulses_days',\n",
            "       'fcs_vegetables_days', 'fcs_fruit_days', 'fcs_meat_fish_days',\n",
            "       'fcs_dairy_days', 'fcs_sugar_days', 'fcs_oil_days',\n",
            "       'fcs_condiments_days', 'shock_noshock', 'shock_sicknessordeathofhh',\n",
            "       'shock_lostemplorwork', 'shock_otherintrahhshock',\n",
            "       'shock_higherfoodprices', 'shock_higherfuelprices', 'shock_mvtrestrict',\n",
            "       'shock_othereconomicshock', 'shock_pestoutbreak', 'shock_plantdisease',\n",
            "       'shock_animaldisease', 'shock_napasture', 'shock_othercropandlivests',\n",
            "       'shock_coldtemporhail', 'shock_flood', 'shock_hurricane',\n",
            "       'shock_drought', 'shock_earthquake', 'shock_landslides',\n",
            "       'shock_firenatural', 'shock_othernathazard', 'shock_violenceinsecconf',\n",
            "       'shock_theftofprodassets', 'shock_firemanmade',\n",
            "       'shock_othermanmadehazard', 'shock_dk', 'shock_ref', 'income_main',\n",
            "       'income_main_amount', 'income_main_gender', 'income_main_control',\n",
            "       'income_main_comp', 'income_sec', 'income_sec_amount',\n",
            "       'income_sec_gender', 'income_sec_control', 'income_sec_comp',\n",
            "       'income_third', 'income_third_amount', 'income_third_gender',\n",
            "       'income_third_control', 'income_third_comp', 'fies_worried',\n",
            "       'fies_healthy', 'fies_fewfoods', 'fies_skipped', 'fies_ateless',\n",
            "       'fies_ranout', 'fies_ranout_hhs', 'fies_hungry', 'fies_hungry_hhs',\n",
            "       'fies_whlday', 'fies_whlday_hhs', 'fies_rawscore'],\n",
            "      dtype='object')\n",
            "\n"
          ]
        }
      ]
    },
    {
      "cell_type": "code",
      "source": [
        "%%ag\n",
        "\n",
        "import op_pandas\n",
        "\n",
        "joined_data = op_pandas.merge(joined_data, undata_adm, on=\"objectid\")\n",
        "\n",
        "ag_print(\"Joined Data Columns: \\n\", joined_data.columns)"
      ],
      "metadata": {
        "colab": {
          "base_uri": "https://localhost:8080/"
        },
        "id": "mO9Zw21GkxQN",
        "outputId": "8cfd9667-7dde-4337-e72b-1cb104148e7e"
      },
      "execution_count": 247,
      "outputs": [
        {
          "output_type": "stream",
          "name": "stdout",
          "text": [
            "Joined Data Columns: \n",
            " Index(['objectid', 'fcs', 'fcs_staple_days', 'fcs_pulses_days',\n",
            "       'fcs_vegetables_days', 'fcs_fruit_days', 'fcs_meat_fish_days',\n",
            "       'fcs_dairy_days', 'fcs_sugar_days', 'fcs_oil_days',\n",
            "       'fcs_condiments_days', 'shock_noshock', 'shock_sicknessordeathofhh',\n",
            "       'shock_lostemplorwork', 'shock_otherintrahhshock',\n",
            "       'shock_higherfoodprices', 'shock_higherfuelprices', 'shock_mvtrestrict',\n",
            "       'shock_othereconomicshock', 'shock_pestoutbreak', 'shock_plantdisease',\n",
            "       'shock_animaldisease', 'shock_napasture', 'shock_othercropandlivests',\n",
            "       'shock_coldtemporhail', 'shock_flood', 'shock_hurricane',\n",
            "       'shock_drought', 'shock_earthquake', 'shock_landslides',\n",
            "       'shock_firenatural', 'shock_othernathazard', 'shock_violenceinsecconf',\n",
            "       'shock_theftofprodassets', 'shock_firemanmade',\n",
            "       'shock_othermanmadehazard', 'shock_dk', 'shock_ref', 'income_main',\n",
            "       'income_main_amount', 'income_main_gender', 'income_main_control',\n",
            "       'income_main_comp', 'income_sec', 'income_sec_amount',\n",
            "       'income_sec_gender', 'income_sec_control', 'income_sec_comp',\n",
            "       'income_third', 'income_third_amount', 'income_third_gender',\n",
            "       'income_third_control', 'income_third_comp', 'fies_worried',\n",
            "       'fies_healthy', 'fies_fewfoods', 'fies_skipped', 'fies_ateless',\n",
            "       'fies_ranout', 'fies_ranout_hhs', 'fies_hungry', 'fies_hungry_hhs',\n",
            "       'fies_whlday', 'fies_whlday_hhs', 'fies_rawscore', 'adm0_name',\n",
            "       'adm0_iso3', 'adm0_m49', 'adm1_pcode', 'adm1_name', 'adm2_pcode',\n",
            "       'adm2_name', 'adm3_pcode', 'adm3_name', 'adm_level'],\n",
            "      dtype='object')\n",
            "\n"
          ]
        }
      ]
    },
    {
      "cell_type": "markdown",
      "source": [
        "# **Data Pre-processing**"
      ],
      "metadata": {
        "id": "I0OYn6GC8rJM"
      }
    },
    {
      "cell_type": "markdown",
      "source": [
        "**Selecting the model variables**"
      ],
      "metadata": {
        "id": "rKxwgsFv6_K3"
      }
    },
    {
      "cell_type": "code",
      "source": [
        "%%ag\n",
        "\n",
        "selected_data = joined_data[['fies_worried','fcs', 'shock_noshock', 'income_main_amount', 'adm0_name']]\n"
      ],
      "metadata": {
        "colab": {
          "base_uri": "https://localhost:8080/"
        },
        "id": "w7irT7zPAYfG",
        "outputId": "0042c3eb-fced-4dbe-d655-5015266aa976"
      },
      "execution_count": 248,
      "outputs": [
        {
          "output_type": "stream",
          "name": "stderr",
          "text": [
            "/code/dependencies/op_pandas/op_pandas/core/private_dataframe.py:115: SettingWithCopyWarning: \n",
            "A value is trying to be set on a copy of a slice from a DataFrame\n",
            "\n",
            "See the caveats in the documentation: https://pandas.pydata.org/pandas-docs/stable/user_guide/indexing.html#returning-a-view-versus-a-copy\n",
            "  self._df[col].clip(lower=self._metadata[col][0], upper=self._metadata[col][1], inplace=True)\n",
            "\n"
          ]
        }
      ]
    },
    {
      "cell_type": "markdown",
      "source": [
        "**Importing the required libraries**"
      ],
      "metadata": {
        "id": "VI077NOb7NXf"
      }
    },
    {
      "cell_type": "code",
      "source": [
        "import pandas as pd\n",
        "import numpy as np"
      ],
      "metadata": {
        "id": "KWHPkJJLx9jg"
      },
      "execution_count": 249,
      "outputs": []
    },
    {
      "cell_type": "markdown",
      "source": [
        "**Getting the descriptive statistics for the modelling variables**"
      ],
      "metadata": {
        "id": "zwU0VRuX7SsW"
      }
    },
    {
      "cell_type": "code",
      "source": [
        "%%ag\n",
        "\n",
        "selected_data_describe = selected_data.describe(eps=1)\n",
        "ag_print(\"Selected Data Describe:\\n\", selected_data_describe)\n",
        "\n"
      ],
      "metadata": {
        "colab": {
          "base_uri": "https://localhost:8080/"
        },
        "id": "fyPrtN5yyiym",
        "outputId": "6367864a-d790-4154-8bad-9a5aa7d4698f"
      },
      "execution_count": 250,
      "outputs": [
        {
          "output_type": "stream",
          "name": "stdout",
          "text": [
            "Selected Data Describe:\n",
            "        fies_worried           fcs  shock_noshock  income_main_amount\n",
            "count  99100.000000  99100.000000   99100.000000        9.910000e+04\n",
            "mean       1.160035     43.259274       0.348568        7.314748e+05\n",
            "std       20.377539     21.736821       0.476028        1.963417e+07\n",
            "min        0.755925      0.000000       0.000000        1.166934e+01\n",
            "25%        0.921838     26.870599       0.000038        1.048928e+04\n",
            "50%        0.555539     43.424523       0.000084        4.474880e+04\n",
            "75%      366.489762     57.315679       0.999682        1.448009e+05\n",
            "max      894.652608    105.494174       0.999995        2.741965e+08\n",
            "\n"
          ]
        }
      ]
    },
    {
      "cell_type": "markdown",
      "source": [],
      "metadata": {
        "id": "SEfAG8OL7eR9"
      }
    },
    {
      "cell_type": "markdown",
      "source": [
        "**Extracting the Afghanistan data**"
      ],
      "metadata": {
        "id": "JKrOpwuN7eWL"
      }
    },
    {
      "cell_type": "code",
      "source": [
        "%%ag\n",
        "# Lets remove those passenger records who tested negative.\n",
        "selected_data = selected_data.where(selected_data['adm0_name'] == 'Afghanistan')"
      ],
      "metadata": {
        "id": "9YHj4300LNsp"
      },
      "execution_count": 251,
      "outputs": []
    },
    {
      "cell_type": "markdown",
      "source": [
        "**Getting the descriptive statistics for the extracted data**"
      ],
      "metadata": {
        "id": "gttBmUyu7s_u"
      }
    },
    {
      "cell_type": "code",
      "source": [
        "%%ag\n",
        "\n",
        "selected_data_describe = selected_data.describe(eps=1)\n",
        "ag_print(\"Selected Data Describe:\\n\", selected_data_describe)"
      ],
      "metadata": {
        "colab": {
          "base_uri": "https://localhost:8080/"
        },
        "id": "J-M52zYGPdhU",
        "outputId": "9e220daf-af9a-4129-ca4c-25c583a161ab"
      },
      "execution_count": 252,
      "outputs": [
        {
          "output_type": "stream",
          "name": "stdout",
          "text": [
            "Selected Data Describe:\n",
            "        fies_worried           fcs  shock_noshock  income_main_amount\n",
            "count  99082.000000  99082.000000   99082.000000        9.908200e+04\n",
            "mean       0.675869     28.468238       0.051553        6.774480e+05\n",
            "std       20.505207     14.269181       0.220652        8.375311e+06\n",
            "min        0.814663      0.000000       0.000000        6.997296e+02\n",
            "25%        0.536709     18.095106       0.001723        5.151281e+03\n",
            "50%      870.746016     31.392292       0.001013        9.335758e+03\n",
            "75%      381.400168     36.568327       0.012103        1.672085e+04\n",
            "max      327.331075     86.074846       0.993701        1.904341e+08\n",
            "\n"
          ]
        }
      ]
    },
    {
      "cell_type": "markdown",
      "source": [
        "#**Univariate Analysis**"
      ],
      "metadata": {
        "id": "p8njj6Fv9DLR"
      }
    },
    {
      "cell_type": "markdown",
      "source": [
        "**Plotting a histogram for main income amount data**"
      ],
      "metadata": {
        "id": "znE_NgOJ70TF"
      }
    },
    {
      "cell_type": "code",
      "source": [
        "%%ag\n",
        "\n",
        "hist_data = selected_data.hist(column='income_main_amount',eps=1)\n",
        "export(hist_data , 'hist_data')"
      ],
      "metadata": {
        "colab": {
          "base_uri": "https://localhost:8080/"
        },
        "id": "-fUpGdhf4Ylk",
        "outputId": "6401ec1e-9846-43fe-e3ea-008a5e0bf106"
      },
      "execution_count": 253,
      "outputs": [
        {
          "output_type": "stream",
          "name": "stdout",
          "text": [
            "Setting up exported variable in local environment: hist_data\n"
          ]
        }
      ]
    },
    {
      "cell_type": "code",
      "source": [
        "import matplotlib.pyplot as plt\n",
        "import numpy as np\n",
        "\n",
        "dp_hist, dp_bins = hist_data\n",
        "\n",
        "# Increase the number of bins by changing the `bins` parameter\n",
        "num_bins = 10  # Adjust the number of bins as needed\n",
        "dp_hist, dp_bins = np.histogram(dp_hist, bins=num_bins)\n",
        "\n",
        "# Create a bar plot using Matplotlib\n",
        "plt.bar(dp_bins[:-1], dp_hist, width=np.diff(dp_bins), align='edge')\n",
        "\n",
        "# Display the plot\n",
        "plt.show()\n"
      ],
      "metadata": {
        "colab": {
          "base_uri": "https://localhost:8080/",
          "height": 430
        },
        "id": "nF7TCSAREb2O",
        "outputId": "2caab5b8-1208-406e-a660-021863a1423d"
      },
      "execution_count": 254,
      "outputs": [
        {
          "output_type": "display_data",
          "data": {
            "text/plain": [
              "<Figure size 640x480 with 1 Axes>"
            ],
            "image/png": "[encoded data removed]"
          },
          "metadata": {}
        }
      ]
    },
    {
      "cell_type": "markdown",
      "source": [
        "**Plotting a boxplot for main income amount data**"
      ],
      "metadata": {
        "id": "yFx_M5bl8CiU"
      }
    },
    {
      "cell_type": "code",
      "source": [
        "%%ag\n",
        "from ag_utils import export\n",
        "income_Hist = selected_data['income_main_amount'].hist(eps=1.0, bins=40)\n",
        "export(income_Hist, 'income_Hist')"
      ],
      "metadata": {
        "colab": {
          "base_uri": "https://localhost:8080/"
        },
        "id": "u35HBsDHRtya",
        "outputId": "ab221b77-8730-4420-f327-b04caa637f49"
      },
      "execution_count": 255,
      "outputs": [
        {
          "output_type": "stream",
          "name": "stdout",
          "text": [
            "Setting up exported variable in local environment: income_Hist\n"
          ]
        }
      ]
    },
    {
      "cell_type": "code",
      "source": [
        "import numpy as np\n",
        "fig, ax = plt.subplots()\n",
        "quantiles = np.percentile(dp_bins, [25, 50, 75])\n",
        "ax.axhline(quantiles[0], color='r', linestyle='dashed', label='Q1')\n",
        "ax.axhline(quantiles[1], color='g', linestyle='dashed', label= 'Q2 or Median')\n",
        "ax.axhline(quantiles[2], color='b', linestyle='dashed', label= 'Q3')\n",
        "ax.legend()\n",
        "ax.set_xlabel('Income density')\n",
        "ax.set_ylabel('Income')\n",
        "ax.set_title('Income boxplot')\n",
        "ax.boxplot(dp_bins)\n",
        "plt.show()"
      ],
      "metadata": {
        "colab": {
          "base_uri": "https://localhost:8080/",
          "height": 472
        },
        "id": "4SQZh-w8SP1H",
        "outputId": "1456cbdc-5bf6-4802-effe-239f155f6766"
      },
      "execution_count": 256,
      "outputs": [
        {
          "output_type": "display_data",
          "data": {
            "text/plain": [
              "<Figure size 640x480 with 1 Axes>"
            ],
            "image/png": "[encoded data removed]"
          },
          "metadata": {}
        }
      ]
    },
    {
      "cell_type": "markdown",
      "source": [
        "**Plotting a piechart for food insecurity experience scale data**"
      ],
      "metadata": {
        "id": "FK-mnEzP8KCP"
      }
    },
    {
      "cell_type": "code",
      "source": [
        "\n",
        "%%ag\n",
        "fies_worried_Hist = selected_data['fies_worried'].hist(eps=1.0, bins= [0,1,2])\n",
        "export(fies_worried_Hist, 'fies_worried_Hist')"
      ],
      "metadata": {
        "colab": {
          "base_uri": "https://localhost:8080/"
        },
        "id": "f0fwVgMMStj8",
        "outputId": "62009d90-0b8b-4f54-8e38-e52da7d81e2b"
      },
      "execution_count": 257,
      "outputs": [
        {
          "output_type": "stream",
          "name": "stdout",
          "text": [
            "Setting up exported variable in local environment: fies_worried_Hist\n"
          ]
        }
      ]
    },
    {
      "cell_type": "code",
      "source": [
        "from matplotlib import pyplot as plt\n",
        "\n",
        "chart, bins = fies_worried_Hist\n",
        "labels = ['NO', 'YES']\n",
        "plt.pie(chart, labels=labels, autopct='%1.1f%%')\n",
        "plt.legend()\n",
        "plt.show()"
      ],
      "metadata": {
        "colab": {
          "base_uri": "https://localhost:8080/",
          "height": 406
        },
        "id": "dHMRniSZXHkU",
        "outputId": "1f498ee4-44d4-4cad-b373-6a5944382c25"
      },
      "execution_count": 258,
      "outputs": [
        {
          "output_type": "display_data",
          "data": {
            "text/plain": [
              "<Figure size 640x480 with 1 Axes>"
            ],
            "image/png": "[encoded data removed]"
          },
          "metadata": {}
        }
      ]
    },
    {
      "cell_type": "markdown",
      "source": [
        "**Plotting a histogram for food consumption score**"
      ],
      "metadata": {
        "id": "errdJxZB8fVs"
      }
    },
    {
      "cell_type": "code",
      "source": [
        "%%ag\n",
        "fcs_Hist = selected_data['fcs'].hist(eps=1.0, bins='auto')\n",
        "export(fcs_Hist, 'fcs_Hist')"
      ],
      "metadata": {
        "colab": {
          "base_uri": "https://localhost:8080/"
        },
        "id": "3qxDMBvGccMN",
        "outputId": "ae9e7007-f4a2-43f0-ca1f-48515ccc5597"
      },
      "execution_count": 260,
      "outputs": [
        {
          "output_type": "stream",
          "name": "stdout",
          "text": [
            "Setting up exported variable in local environment: fcs_Hist\n"
          ]
        }
      ]
    },
    {
      "cell_type": "code",
      "source": [
        "from matplotlib import pyplot as plt\n",
        "\n",
        "dp_hist, dp_bins = fcs_Hist\n",
        "plt.title('FCS Distribution')\n",
        "plt.xlabel('Food Consumption Score')\n",
        "plt.ylabel('FCS')\n",
        "plt.bar(dp_bins[:-1], dp_hist, width=dp_bins[1]-dp_bins[0])\n",
        "plt.show()"
      ],
      "metadata": {
        "colab": {
          "base_uri": "https://localhost:8080/",
          "height": 472
        },
        "id": "dtScceuWgtFa",
        "outputId": "2c2c0ece-f817-4d1c-8c39-5081277ecc71"
      },
      "execution_count": 262,
      "outputs": [
        {
          "output_type": "display_data",
          "data": {
            "text/plain": [
              "<Figure size 640x480 with 1 Axes>"
            ],
            "image/png": "[encoded data removed]"
          },
          "metadata": {}
        }
      ]
    },
    {
      "cell_type": "markdown",
      "source": [
        "**Removing missing data**"
      ],
      "metadata": {
        "id": "3F00u4OU9QST"
      }
    },
    {
      "cell_type": "code",
      "source": [
        "%%ag\n",
        "selected_data = joined_data[['fies_worried','fcs', 'shock_noshock', 'income_main_amount', 'adm0_name']]\n",
        "selected_data = selected_data.dropna()"
      ],
      "metadata": {
        "colab": {
          "base_uri": "https://localhost:8080/"
        },
        "id": "xXf--pEapBAP",
        "outputId": "ba7f84a0-016d-4928-ca48-ea5b3790ada4"
      },
      "execution_count": 263,
      "outputs": [
        {
          "output_type": "stream",
          "name": "stderr",
          "text": [
            "/code/dependencies/op_pandas/op_pandas/core/private_dataframe.py:115: SettingWithCopyWarning: \n",
            "A value is trying to be set on a copy of a slice from a DataFrame\n",
            "\n",
            "See the caveats in the documentation: https://pandas.pydata.org/pandas-docs/stable/user_guide/indexing.html#returning-a-view-versus-a-copy\n",
            "  self._df[col].clip(lower=self._metadata[col][0], upper=self._metadata[col][1], inplace=True)\n",
            "\n"
          ]
        }
      ]
    },
    {
      "cell_type": "markdown",
      "source": [
        "# **Advanced Analysis**"
      ],
      "metadata": {
        "id": "jPRgsZ-y9g9B"
      }
    },
    {
      "cell_type": "markdown",
      "source": [
        "**Splitting the dataset to training and test sets**"
      ],
      "metadata": {
        "id": "GUeoPZbw9Zm_"
      }
    },
    {
      "cell_type": "code",
      "source": [
        "%%ag\n",
        "train_data, test_data = op_pandas.train_test_split(selected_data)\n",
        "\n",
        "ag_print(\"Train Data Description: \\n\", train_data.describe(eps = 1))\n",
        "ag_print(\"Test Data Description: \\n\", test_data.describe(eps = 1))"
      ],
      "metadata": {
        "colab": {
          "base_uri": "https://localhost:8080/"
        },
        "id": "aqJcAzMbYNGt",
        "outputId": "1eb34c3c-ced4-4b5f-d172-16c8db52f4fd"
      },
      "execution_count": 264,
      "outputs": [
        {
          "output_type": "stream",
          "name": "stdout",
          "text": [
            "Train Data Description: \n",
            "        fies_worried           fcs  shock_noshock  income_main_amount\n",
            "count  32192.000000  32192.000000   32192.000000        3.219200e+04\n",
            "mean       0.000000     39.131124       0.284529        0.000000e+00\n",
            "std       30.837384     21.292084       0.452876        7.269307e+07\n",
            "min        0.046040      0.000000       0.000000        8.471580e+01\n",
            "25%        0.642811     24.166902       0.000182        9.770568e+03\n",
            "50%        0.378344     36.540916       0.003000        4.400428e+04\n",
            "75%      281.106823     53.215660       0.987102        1.339025e+05\n",
            "max      661.486775    108.831569       0.999948        1.186537e+09\n",
            "\n",
            "Test Data Description: \n",
            "        fies_worried           fcs  shock_noshock  income_main_amount\n",
            "count  10732.000000  10732.000000   10732.000000        1.073200e+04\n",
            "mean       0.000000     38.051540       0.277422        0.000000e+00\n",
            "std       44.657404     20.531019       0.448941        7.026854e+07\n",
            "min        0.621795      0.000000       0.000000        2.526739e+02\n",
            "25%        0.615856     18.792244       0.000685        9.072938e+03\n",
            "50%        0.741037     38.780642       0.006262        4.344677e+04\n",
            "75%      881.009457     54.852171       0.918651        1.426326e+05\n",
            "max      399.254117     93.894953       0.998363        1.204094e+09\n",
            "\n"
          ]
        }
      ]
    },
    {
      "cell_type": "code",
      "source": [
        "%%ag\n",
        "from op_pandas import PrivateDataFrame , PrivateSeries\n",
        "from ag_utils import load_dataset\n",
        "\n",
        "train_x = train_data[['fcs', 'shock_noshock','income_main_amount']]\n",
        "train_y = train_data['fies_worried']\n",
        "test_x = test_data[['fcs', 'shock_noshock', 'income_main_amount']]\n"
      ],
      "metadata": {
        "colab": {
          "base_uri": "https://localhost:8080/"
        },
        "id": "ATnBfsEcjCI_",
        "outputId": "a6d1a2ce-27ee-4866-de57-edc80ef8d4b3"
      },
      "execution_count": 265,
      "outputs": [
        {
          "output_type": "stream",
          "name": "stderr",
          "text": [
            "/code/dependencies/op_pandas/op_pandas/core/private_dataframe.py:115: SettingWithCopyWarning: \n",
            "A value is trying to be set on a copy of a slice from a DataFrame\n",
            "\n",
            "See the caveats in the documentation: https://pandas.pydata.org/pandas-docs/stable/user_guide/indexing.html#returning-a-view-versus-a-copy\n",
            "  self._df[col].clip(lower=self._metadata[col][0], upper=self._metadata[col][1], inplace=True)\n",
            "/code/dependencies/op_pandas/op_pandas/core/private_dataframe.py:115: SettingWithCopyWarning: \n",
            "A value is trying to be set on a copy of a slice from a DataFrame\n",
            "\n",
            "See the caveats in the documentation: https://pandas.pydata.org/pandas-docs/stable/user_guide/indexing.html#returning-a-view-versus-a-copy\n",
            "  self._df[col].clip(lower=self._metadata[col][0], upper=self._metadata[col][1], inplace=True)\n",
            "\n"
          ]
        }
      ]
    },
    {
      "cell_type": "markdown",
      "source": [
        "**Fitting Logistic Regression Model**"
      ],
      "metadata": {
        "id": "AbqACJSw9qXn"
      }
    },
    {
      "cell_type": "code",
      "source": [
        "%%ag\n",
        "from op_diffprivlib import models\n",
        "train_x_2 = train_x ** 2\n",
        "l_2_norm = train_x_2.sum(axis = 1) ** 0.5\n",
        "l_2_norm = l_2_norm.quantile(1, eps=10)\n",
        "\n",
        "model_LR = models.LogisticRegression(epsilon=20, data_norm=l_2_norm)"
      ],
      "metadata": {
        "id": "M5Ce13KirxQi"
      },
      "execution_count": 266,
      "outputs": []
    },
    {
      "cell_type": "code",
      "source": [
        "%%ag\n",
        "model_LR.fit(train_x, train_y)"
      ],
      "metadata": {
        "id": "R6UIBB1Nr1nM"
      },
      "execution_count": 267,
      "outputs": []
    },
    {
      "cell_type": "code",
      "source": [
        "%%ag\n",
        "lr_pred = model_LR.predict(test_x)"
      ],
      "metadata": {
        "id": "-2Kbkmhv4I79"
      },
      "execution_count": 268,
      "outputs": []
    },
    {
      "cell_type": "code",
      "source": [
        "%%ag\n",
        "from ag_utils import submit_predictions\n",
        "import pandas as pd\n",
        "lr_pred = pd.DataFrame(lr_pred)\n",
        "submit_predictions(lr_pred)"
      ],
      "metadata": {
        "id": "a6M6L8Td34Nl",
        "colab": {
          "base_uri": "https://localhost:8080/"
        },
        "outputId": "74101eff-7d12-4d99-f26a-2d3c6933c593"
      },
      "execution_count": 269,
      "outputs": [
        {
          "output_type": "stream",
          "name": "stdout",
          "text": [
            "score: {'leaderboard': 0, 'logs': {}}\n",
            "\n"
          ]
        }
      ]
    },
    {
      "cell_type": "markdown",
      "source": [
        "**Fitting Random Forest Model**"
      ],
      "metadata": {
        "id": "sUXGteCi_T-5"
      }
    },
    {
      "cell_type": "code",
      "source": [
        "%%ag\n",
        "from op_diffprivlib import models\n",
        "l_meta, r_meta = [], []\n",
        "for l,r in train_x.metadata.values():\n",
        "  l_meta.append(l)\n",
        "  r_meta.append(r)\n",
        "bounds = ( l_meta , r_meta ) # ([lower] , [upper])\n",
        "model_RFC = models.RandomForestClassifier(n_estimators=100, epsilon = 20 , random_state=33 , bounds=bounds , classes=['0','1'])"
      ],
      "metadata": {
        "id": "3nbuv08tn-jW"
      },
      "execution_count": 270,
      "outputs": []
    },
    {
      "cell_type": "code",
      "source": [
        "%%ag\n",
        "model_RFC.fit(train_x, train_y)"
      ],
      "metadata": {
        "id": "Bt-dr6Vurphd"
      },
      "execution_count": 271,
      "outputs": []
    },
    {
      "cell_type": "code",
      "source": [
        "%%ag\n",
        "rfc_pred = model_RFC.predict(test_x)\n"
      ],
      "metadata": {
        "id": "CHsuHKIx5DfI"
      },
      "execution_count": 272,
      "outputs": []
    },
    {
      "cell_type": "code",
      "source": [
        "%%ag\n",
        "from ag_utils import submit_predictions\n",
        "import pandas as pd\n",
        "rfc_pred = pd.DataFrame(rfc_pred)\n",
        "submit_predictions(rfc_pred)"
      ],
      "metadata": {
        "colab": {
          "base_uri": "https://localhost:8080/"
        },
        "id": "kG2x--0y4_w4",
        "outputId": "0b78f24f-ce6e-43d6-bdf2-7dd28e153f12"
      },
      "execution_count": 273,
      "outputs": [
        {
          "output_type": "stream",
          "name": "stdout",
          "text": [
            "score: {'leaderboard': 0, 'logs': {}}\n",
            "\n"
          ]
        }
      ]
    },
    {
      "cell_type": "markdown",
      "source": [
        "**Fitting Naive Bayes Model**"
      ],
      "metadata": {
        "id": "64aOfG3C_g1g"
      }
    },
    {
      "cell_type": "code",
      "source": [
        "%%ag\n",
        "model_GNB = models.GaussianNB(epsilon=20, bounds=bounds, random_state=33)"
      ],
      "metadata": {
        "id": "6Io7seu852KR"
      },
      "execution_count": 275,
      "outputs": []
    },
    {
      "cell_type": "code",
      "source": [
        "%%ag\n",
        "model_GNB.fit(train_x, train_y)"
      ],
      "metadata": {
        "id": "12eqDvrK5982"
      },
      "execution_count": 276,
      "outputs": []
    },
    {
      "cell_type": "code",
      "source": [
        "%%ag\n",
        "gnb_pred = model_GNB.predict(test_x)"
      ],
      "metadata": {
        "id": "02rgDD3E6Cvr"
      },
      "execution_count": 277,
      "outputs": []
    },
    {
      "cell_type": "code",
      "source": [
        "%%ag\n",
        "gnb_pred = pd.DataFrame(gnb_pred)\n",
        "submit_predictions(gnb_pred)\n"
      ],
      "metadata": {
        "colab": {
          "base_uri": "https://localhost:8080/",
          "height": 391
        },
        "id": "Bp5dcMbZ6IQB",
        "outputId": "d8304e3d-b030-4089-c447-351cf634a2da"
      },
      "execution_count": 287,
      "outputs": [
        {
          "output_type": "error",
          "ename": "HTTPError",
          "evalue": "ignored",
          "traceback": [
            "\u001b[0;31m---------------------------------------------------------------------------\u001b[0m",
            "\u001b[0;31mHTTPError\u001b[0m                                 Traceback (most recent call last)",
            "\u001b[0;32m<ipython-input-287-7dfca88135b0>\u001b[0m in \u001b[0;36m<cell line: 1>\u001b[0;34m()\u001b[0m\n\u001b[0;32m----> 1\u001b[0;31m \u001b[0mget_ipython\u001b[0m\u001b[0;34m(\u001b[0m\u001b[0;34m)\u001b[0m\u001b[0;34m.\u001b[0m\u001b[0mrun_cell_magic\u001b[0m\u001b[0;34m(\u001b[0m\u001b[0;34m'ag'\u001b[0m\u001b[0;34m,\u001b[0m \u001b[0;34m''\u001b[0m\u001b[0;34m,\u001b[0m \u001b[0;34m'gnb_pred = pd.DataFrame(gnb_pred)\\nsubmit_predictions(gnb_pred)\\n'\u001b[0m\u001b[0;34m)\u001b[0m\u001b[0;34m\u001b[0m\u001b[0;34m\u001b[0m\u001b[0m\n\u001b[0m",
            "\u001b[0;32m/usr/local/lib/python3.10/dist-packages/google/colab/_shell.py\u001b[0m in \u001b[0;36mrun_cell_magic\u001b[0;34m(self, magic_name, line, cell)\u001b[0m\n\u001b[1;32m    332\u001b[0m     \u001b[0;32mif\u001b[0m \u001b[0mline\u001b[0m \u001b[0;32mand\u001b[0m \u001b[0;32mnot\u001b[0m \u001b[0mcell\u001b[0m\u001b[0;34m:\u001b[0m\u001b[0;34m\u001b[0m\u001b[0;34m\u001b[0m\u001b[0m\n\u001b[1;32m    333\u001b[0m       \u001b[0mcell\u001b[0m \u001b[0;34m=\u001b[0m \u001b[0;34m' '\u001b[0m\u001b[0;34m\u001b[0m\u001b[0;34m\u001b[0m\u001b[0m\n\u001b[0;32m--> 334\u001b[0;31m     \u001b[0;32mreturn\u001b[0m \u001b[0msuper\u001b[0m\u001b[0;34m(\u001b[0m\u001b[0;34m)\u001b[0m\u001b[0;34m.\u001b[0m\u001b[0mrun_cell_magic\u001b[0m\u001b[0;34m(\u001b[0m\u001b[0mmagic_name\u001b[0m\u001b[0;34m,\u001b[0m \u001b[0mline\u001b[0m\u001b[0;34m,\u001b[0m \u001b[0mcell\u001b[0m\u001b[0;34m)\u001b[0m\u001b[0;34m\u001b[0m\u001b[0;34m\u001b[0m\u001b[0m\n\u001b[0m\u001b[1;32m    335\u001b[0m \u001b[0;34m\u001b[0m\u001b[0m\n\u001b[1;32m    336\u001b[0m \u001b[0;34m\u001b[0m\u001b[0m\n",
            "\u001b[0;32m/usr/local/lib/python3.10/dist-packages/IPython/core/interactiveshell.py\u001b[0m in \u001b[0;36mrun_cell_magic\u001b[0;34m(self, magic_name, line, cell)\u001b[0m\n\u001b[1;32m   2471\u001b[0m             \u001b[0;32mwith\u001b[0m \u001b[0mself\u001b[0m\u001b[0;34m.\u001b[0m\u001b[0mbuiltin_trap\u001b[0m\u001b[0;34m:\u001b[0m\u001b[0;34m\u001b[0m\u001b[0;34m\u001b[0m\u001b[0m\n\u001b[1;32m   2472\u001b[0m                 \u001b[0margs\u001b[0m \u001b[0;34m=\u001b[0m \u001b[0;34m(\u001b[0m\u001b[0mmagic_arg_s\u001b[0m\u001b[0;34m,\u001b[0m \u001b[0mcell\u001b[0m\u001b[0;34m)\u001b[0m\u001b[0;34m\u001b[0m\u001b[0;34m\u001b[0m\u001b[0m\n\u001b[0;32m-> 2473\u001b[0;31m                 \u001b[0mresult\u001b[0m \u001b[0;34m=\u001b[0m \u001b[0mfn\u001b[0m\u001b[0;34m(\u001b[0m\u001b[0;34m*\u001b[0m\u001b[0margs\u001b[0m\u001b[0;34m,\u001b[0m \u001b[0;34m**\u001b[0m\u001b[0mkwargs\u001b[0m\u001b[0;34m)\u001b[0m\u001b[0;34m\u001b[0m\u001b[0;34m\u001b[0m\u001b[0m\n\u001b[0m\u001b[1;32m   2474\u001b[0m             \u001b[0;32mreturn\u001b[0m \u001b[0mresult\u001b[0m\u001b[0;34m\u001b[0m\u001b[0;34m\u001b[0m\u001b[0m\n\u001b[1;32m   2475\u001b[0m \u001b[0;34m\u001b[0m\u001b[0m\n",
            "\u001b[0;32m<decorator-gen-118>\u001b[0m in \u001b[0;36mag\u001b[0;34m(self, line, cell)\u001b[0m\n",
            "\u001b[0;32m/usr/local/lib/python3.10/dist-packages/IPython/core/magic.py\u001b[0m in \u001b[0;36m<lambda>\u001b[0;34m(f, *a, **k)\u001b[0m\n\u001b[1;32m    185\u001b[0m     \u001b[0;31m# but it's overkill for just that one bit of state.\u001b[0m\u001b[0;34m\u001b[0m\u001b[0;34m\u001b[0m\u001b[0m\n\u001b[1;32m    186\u001b[0m     \u001b[0;32mdef\u001b[0m \u001b[0mmagic_deco\u001b[0m\u001b[0;34m(\u001b[0m\u001b[0marg\u001b[0m\u001b[0;34m)\u001b[0m\u001b[0;34m:\u001b[0m\u001b[0;34m\u001b[0m\u001b[0;34m\u001b[0m\u001b[0m\n\u001b[0;32m--> 187\u001b[0;31m         \u001b[0mcall\u001b[0m \u001b[0;34m=\u001b[0m \u001b[0;32mlambda\u001b[0m \u001b[0mf\u001b[0m\u001b[0;34m,\u001b[0m \u001b[0;34m*\u001b[0m\u001b[0ma\u001b[0m\u001b[0;34m,\u001b[0m \u001b[0;34m**\u001b[0m\u001b[0mk\u001b[0m\u001b[0;34m:\u001b[0m \u001b[0mf\u001b[0m\u001b[0;34m(\u001b[0m\u001b[0;34m*\u001b[0m\u001b[0ma\u001b[0m\u001b[0;34m,\u001b[0m \u001b[0;34m**\u001b[0m\u001b[0mk\u001b[0m\u001b[0;34m)\u001b[0m\u001b[0;34m\u001b[0m\u001b[0;34m\u001b[0m\u001b[0m\n\u001b[0m\u001b[1;32m    188\u001b[0m \u001b[0;34m\u001b[0m\u001b[0m\n\u001b[1;32m    189\u001b[0m         \u001b[0;32mif\u001b[0m \u001b[0mcallable\u001b[0m\u001b[0;34m(\u001b[0m\u001b[0marg\u001b[0m\u001b[0;34m)\u001b[0m\u001b[0;34m:\u001b[0m\u001b[0;34m\u001b[0m\u001b[0;34m\u001b[0m\u001b[0m\n",
            "\u001b[0;32m/usr/local/lib/python3.10/dist-packages/antigranular/magics/magics.py\u001b[0m in \u001b[0;36mag\u001b[0;34m(self, line, cell)\u001b[0m\n\u001b[1;32m     54\u001b[0m         \u001b[0;32melse\u001b[0m\u001b[0;34m:\u001b[0m\u001b[0;34m\u001b[0m\u001b[0;34m\u001b[0m\u001b[0m\n\u001b[1;32m     55\u001b[0m             \u001b[0;32mtry\u001b[0m\u001b[0;34m:\u001b[0m\u001b[0;34m\u001b[0m\u001b[0;34m\u001b[0m\u001b[0m\n\u001b[0;32m---> 56\u001b[0;31m                 \u001b[0mself\u001b[0m\u001b[0;34m.\u001b[0m\u001b[0mexecute\u001b[0m\u001b[0;34m(\u001b[0m\u001b[0mcell\u001b[0m\u001b[0;34m)\u001b[0m\u001b[0;34m\u001b[0m\u001b[0;34m\u001b[0m\u001b[0m\n\u001b[0m\u001b[1;32m     57\u001b[0m             \u001b[0;31m# except any exception\u001b[0m\u001b[0;34m\u001b[0m\u001b[0;34m\u001b[0m\u001b[0m\n\u001b[1;32m     58\u001b[0m             \u001b[0;32mexcept\u001b[0m \u001b[0mKeyboardInterrupt\u001b[0m\u001b[0;34m:\u001b[0m\u001b[0;34m\u001b[0m\u001b[0;34m\u001b[0m\u001b[0m\n",
            "\u001b[0;32m/usr/local/lib/python3.10/dist-packages/antigranular/magics/magics.py\u001b[0m in \u001b[0;36mexecute\u001b[0;34m(self, code)\u001b[0m\n\u001b[1;32m     84\u001b[0m         \u001b[0;32melse\u001b[0m\u001b[0;34m:\u001b[0m\u001b[0;34m\u001b[0m\u001b[0;34m\u001b[0m\u001b[0m\n\u001b[1;32m     85\u001b[0m             \u001b[0;32mif\u001b[0m \u001b[0mres\u001b[0m\u001b[0;34m.\u001b[0m\u001b[0mstatus_code\u001b[0m \u001b[0;34m!=\u001b[0m \u001b[0;36m200\u001b[0m\u001b[0;34m:\u001b[0m\u001b[0;34m\u001b[0m\u001b[0;34m\u001b[0m\u001b[0m\n\u001b[0;32m---> 86\u001b[0;31m                 raise HTTPError(\n\u001b[0m\u001b[1;32m     87\u001b[0m                     \u001b[0mprint_request_id\u001b[0m\u001b[0;34m(\u001b[0m\u001b[0;34mf\"Error while requesting AG server to execute the code, HTTP status code: {res.status_code}, message: {res.text}\"\u001b[0m\u001b[0;34m,\u001b[0m \u001b[0mres\u001b[0m\u001b[0;34m)\u001b[0m\u001b[0;34m\u001b[0m\u001b[0;34m\u001b[0m\u001b[0m\n\u001b[1;32m     88\u001b[0m                 )\n",
            "\u001b[0;31mHTTPError\u001b[0m: Error while requesting AG server to execute the code, HTTP status code: 400, message: {\"detail\":\"Session not found. Please try logging in again.\"} Request ID: http-req-46bdaaf8-65a5-4e33-9618-cb352a38acba"
          ]
        }
      ]
    },
    {
      "cell_type": "markdown",
      "source": [],
      "metadata": {
        "id": "T15xLapb_yL5"
      }
    },
    {
      "cell_type": "markdown",
      "source": [
        "**Exporting Predicted Values**"
      ],
      "metadata": {
        "id": "DB1jYKeN_yYC"
      }
    },
    {
      "cell_type": "code",
      "source": [
        "%%ag\n",
        "export(rfc_pred , \"rfc_pred\")\n",
        "export(lr_pred, \"lr_pred\")\n",
        "export(gnb_pred, \"gnb_pred\")"
      ],
      "metadata": {
        "id": "fK1o7BvI63sT",
        "colab": {
          "base_uri": "https://localhost:8080/"
        },
        "outputId": "415a4b23-b199-4c94-be1b-fe36da7f0084"
      },
      "execution_count": 279,
      "outputs": [
        {
          "output_type": "stream",
          "name": "stdout",
          "text": [
            "Setting up exported variable in local environment: rfc_pred\n",
            "Setting up exported variable in local environment: lr_pred\n",
            "Setting up exported variable in local environment: gnb_pred\n"
          ]
        }
      ]
    },
    {
      "cell_type": "code",
      "source": [
        "rfc_pred"
      ],
      "metadata": {
        "id": "MFVbPFkh6-lk",
        "colab": {
          "base_uri": "https://localhost:8080/",
          "height": 423
        },
        "outputId": "0deac8c4-4d9d-4ee2-cad8-477bf3f8cb4e"
      },
      "execution_count": 280,
      "outputs": [
        {
          "output_type": "execute_result",
          "data": {
            "text/plain": [
              "       0\n",
              "0      0\n",
              "1      1\n",
              "2      1\n",
              "3      1\n",
              "4      1\n",
              "...   ..\n",
              "10716  0\n",
              "10717  1\n",
              "10718  1\n",
              "10719  1\n",
              "10720  1\n",
              "\n",
              "[10721 rows x 1 columns]"
            ],
            "text/html": [
              "\n",
              "  <div id=\"df-16981cbb-95bf-4212-82f0-196c88b05827\" class=\"colab-df-container\">\n",
              "    <div>\n",
              "<style scoped>\n",
              "    .dataframe tbody tr th:only-of-type {\n",
              "        vertical-align: middle;\n",
              "    }\n",
              "\n",
              "    .dataframe tbody tr th {\n",
              "        vertical-align: top;\n",
              "    }\n",
              "\n",
              "    .dataframe thead th {\n",
              "        text-align: right;\n",
              "    }\n",
              "</style>\n",
              "<table border=\"1\" class=\"dataframe\">\n",
              "  <thead>\n",
              "    <tr style=\"text-align: right;\">\n",
              "      <th></th>\n",
              "      <th>0</th>\n",
              "    </tr>\n",
              "  </thead>\n",
              "  <tbody>\n",
              "    <tr>\n",
              "      <th>0</th>\n",
              "      <td>0</td>\n",
              "    </tr>\n",
              "    <tr>\n",
              "      <th>1</th>\n",
              "      <td>1</td>\n",
              "    </tr>\n",
              "    <tr>\n",
              "      <th>2</th>\n",
              "      <td>1</td>\n",
              "    </tr>\n",
              "    <tr>\n",
              "      <th>3</th>\n",
              "      <td>1</td>\n",
              "    </tr>\n",
              "    <tr>\n",
              "      <th>4</th>\n",
              "      <td>1</td>\n",
              "    </tr>\n",
              "    <tr>\n",
              "      <th>...</th>\n",
              "      <td>...</td>\n",
              "    </tr>\n",
              "    <tr>\n",
              "      <th>10716</th>\n",
              "      <td>0</td>\n",
              "    </tr>\n",
              "    <tr>\n",
              "      <th>10717</th>\n",
              "      <td>1</td>\n",
              "    </tr>\n",
              "    <tr>\n",
              "      <th>10718</th>\n",
              "      <td>1</td>\n",
              "    </tr>\n",
              "    <tr>\n",
              "      <th>10719</th>\n",
              "      <td>1</td>\n",
              "    </tr>\n",
              "    <tr>\n",
              "      <th>10720</th>\n",
              "      <td>1</td>\n",
              "    </tr>\n",
              "  </tbody>\n",
              "</table>\n",
              "<p>10721 rows × 1 columns</p>\n",
              "</div>\n",
              "    <div class=\"colab-df-buttons\">\n",
              "\n",
              "  <div class=\"colab-df-container\">\n",
              "    <button class=\"colab-df-convert\" onclick=\"convertToInteractive('df-16981cbb-95bf-4212-82f0-196c88b05827')\"\n",
              "            title=\"Convert this dataframe to an interactive table.\"\n",
              "            style=\"display:none;\">\n",
              "\n",
              "  <svg xmlns=\"http://www.w3.org/2000/svg\" height=\"24px\" viewBox=\"0 -960 960 960\">\n",
              "    <path d=\"M120-120v-720h720v720H120Zm60-500h600v-160H180v160Zm220 220h160v-160H400v160Zm0 220h160v-160H400v160ZM180-400h160v-160H180v160Zm440 0h160v-160H620v160ZM180-180h160v-160H180v160Zm440 0h160v-160H620v160Z\"/>\n",
              "  </svg>\n",
              "    </button>\n",
              "\n",
              "  <style>\n",
              "    .colab-df-container {\n",
              "      display:flex;\n",
              "      gap: 12px;\n",
              "    }\n",
              "\n",
              "    .colab-df-convert {\n",
              "      background-color: #E8F0FE;\n",
              "      border: none;\n",
              "      border-radius: 50%;\n",
              "      cursor: pointer;\n",
              "      display: none;\n",
              "      fill: #1967D2;\n",
              "      height: 32px;\n",
              "      padding: 0 0 0 0;\n",
              "      width: 32px;\n",
              "    }\n",
              "\n",
              "    .colab-df-convert:hover {\n",
              "      background-color: #E2EBFA;\n",
              "      box-shadow: 0px 1px 2px rgba(60, 64, 67, 0.3), 0px 1px 3px 1px rgba(60, 64, 67, 0.15);\n",
              "      fill: #174EA6;\n",
              "    }\n",
              "\n",
              "    .colab-df-buttons div {\n",
              "      margin-bottom: 4px;\n",
              "    }\n",
              "\n",
              "    [theme=dark] .colab-df-convert {\n",
              "      background-color: #3B4455;\n",
              "      fill: #D2E3FC;\n",
              "    }\n",
              "\n",
              "    [theme=dark] .colab-df-convert:hover {\n",
              "      background-color: #434B5C;\n",
              "      box-shadow: 0px 1px 3px 1px rgba(0, 0, 0, 0.15);\n",
              "      filter: drop-shadow(0px 1px 2px rgba(0, 0, 0, 0.3));\n",
              "      fill: #FFFFFF;\n",
              "    }\n",
              "  </style>\n",
              "\n",
              "    <script>\n",
              "      const buttonEl =\n",
              "        document.querySelector('#df-16981cbb-95bf-4212-82f0-196c88b05827 button.colab-df-convert');\n",
              "      buttonEl.style.display =\n",
              "        google.colab.kernel.accessAllowed ? 'block' : 'none';\n",
              "\n",
              "      async function convertToInteractive(key) {\n",
              "        const element = document.querySelector('#df-16981cbb-95bf-4212-82f0-196c88b05827');\n",
              "        const dataTable =\n",
              "          await google.colab.kernel.invokeFunction('convertToInteractive',\n",
              "                                                    [key], {});\n",
              "        if (!dataTable) return;\n",
              "\n",
              "        const docLinkHtml = 'Like what you see? Visit the ' +\n",
              "          '<a target=\"_blank\" href=https://colab.research.google.com/notebooks/data_table.ipynb>data table notebook</a>'\n",
              "          + ' to learn more about interactive tables.';\n",
              "        element.innerHTML = '';\n",
              "        dataTable['output_type'] = 'display_data';\n",
              "        await google.colab.output.renderOutput(dataTable, element);\n",
              "        const docLink = document.createElement('div');\n",
              "        docLink.innerHTML = docLinkHtml;\n",
              "        element.appendChild(docLink);\n",
              "      }\n",
              "    </script>\n",
              "  </div>\n",
              "\n",
              "\n",
              "<div id=\"df-5f30ce44-c520-4647-b34f-1538065cbc5c\">\n",
              "  <button class=\"colab-df-quickchart\" onclick=\"quickchart('df-5f30ce44-c520-4647-b34f-1538065cbc5c')\"\n",
              "            title=\"Suggest charts.\"\n",
              "            style=\"display:none;\">\n",
              "\n",
              "<svg xmlns=\"http://www.w3.org/2000/svg\" height=\"24px\"viewBox=\"0 0 24 24\"\n",
              "     width=\"24px\">\n",
              "    <g>\n",
              "        <path d=\"M19 3H5c-1.1 0-2 .9-2 2v14c0 1.1.9 2 2 2h14c1.1 0 2-.9 2-2V5c0-1.1-.9-2-2-2zM9 17H7v-7h2v7zm4 0h-2V7h2v10zm4 0h-2v-4h2v4z\"/>\n",
              "    </g>\n",
              "</svg>\n",
              "  </button>\n",
              "\n",
              "<style>\n",
              "  .colab-df-quickchart {\n",
              "      --bg-color: #E8F0FE;\n",
              "      --fill-color: #1967D2;\n",
              "      --hover-bg-color: #E2EBFA;\n",
              "      --hover-fill-color: #174EA6;\n",
              "      --disabled-fill-color: #AAA;\n",
              "      --disabled-bg-color: #DDD;\n",
              "  }\n",
              "\n",
              "  [theme=dark] .colab-df-quickchart {\n",
              "      --bg-color: #3B4455;\n",
              "      --fill-color: #D2E3FC;\n",
              "      --hover-bg-color: #434B5C;\n",
              "      --hover-fill-color: #FFFFFF;\n",
              "      --disabled-bg-color: #3B4455;\n",
              "      --disabled-fill-color: #666;\n",
              "  }\n",
              "\n",
              "  .colab-df-quickchart {\n",
              "    background-color: var(--bg-color);\n",
              "    border: none;\n",
              "    border-radius: 50%;\n",
              "    cursor: pointer;\n",
              "    display: none;\n",
              "    fill: var(--fill-color);\n",
              "    height: 32px;\n",
              "    padding: 0;\n",
              "    width: 32px;\n",
              "  }\n",
              "\n",
              "  .colab-df-quickchart:hover {\n",
              "    background-color: var(--hover-bg-color);\n",
              "    box-shadow: 0 1px 2px rgba(60, 64, 67, 0.3), 0 1px 3px 1px rgba(60, 64, 67, 0.15);\n",
              "    fill: var(--button-hover-fill-color);\n",
              "  }\n",
              "\n",
              "  .colab-df-quickchart-complete:disabled,\n",
              "  .colab-df-quickchart-complete:disabled:hover {\n",
              "    background-color: var(--disabled-bg-color);\n",
              "    fill: var(--disabled-fill-color);\n",
              "    box-shadow: none;\n",
              "  }\n",
              "\n",
              "  .colab-df-spinner {\n",
              "    border: 2px solid var(--fill-color);\n",
              "    border-color: transparent;\n",
              "    border-bottom-color: var(--fill-color);\n",
              "    animation:\n",
              "      spin 1s steps(1) infinite;\n",
              "  }\n",
              "\n",
              "  @keyframes spin {\n",
              "    0% {\n",
              "      border-color: transparent;\n",
              "      border-bottom-color: var(--fill-color);\n",
              "      border-left-color: var(--fill-color);\n",
              "    }\n",
              "    20% {\n",
              "      border-color: transparent;\n",
              "      border-left-color: var(--fill-color);\n",
              "      border-top-color: var(--fill-color);\n",
              "    }\n",
              "    30% {\n",
              "      border-color: transparent;\n",
              "      border-left-color: var(--fill-color);\n",
              "      border-top-color: var(--fill-color);\n",
              "      border-right-color: var(--fill-color);\n",
              "    }\n",
              "    40% {\n",
              "      border-color: transparent;\n",
              "      border-right-color: var(--fill-color);\n",
              "      border-top-color: var(--fill-color);\n",
              "    }\n",
              "    60% {\n",
              "      border-color: transparent;\n",
              "      border-right-color: var(--fill-color);\n",
              "    }\n",
              "    80% {\n",
              "      border-color: transparent;\n",
              "      border-right-color: var(--fill-color);\n",
              "      border-bottom-color: var(--fill-color);\n",
              "    }\n",
              "    90% {\n",
              "      border-color: transparent;\n",
              "      border-bottom-color: var(--fill-color);\n",
              "    }\n",
              "  }\n",
              "</style>\n",
              "\n",
              "  <script>\n",
              "    async function quickchart(key) {\n",
              "      const quickchartButtonEl =\n",
              "        document.querySelector('#' + key + ' button');\n",
              "      quickchartButtonEl.disabled = true;  // To prevent multiple clicks.\n",
              "      quickchartButtonEl.classList.add('colab-df-spinner');\n",
              "      try {\n",
              "        const charts = await google.colab.kernel.invokeFunction(\n",
              "            'suggestCharts', [key], {});\n",
              "      } catch (error) {\n",
              "        console.error('Error during call to suggestCharts:', error);\n",
              "      }\n",
              "      quickchartButtonEl.classList.remove('colab-df-spinner');\n",
              "      quickchartButtonEl.classList.add('colab-df-quickchart-complete');\n",
              "    }\n",
              "    (() => {\n",
              "      let quickchartButtonEl =\n",
              "        document.querySelector('#df-5f30ce44-c520-4647-b34f-1538065cbc5c button');\n",
              "      quickchartButtonEl.style.display =\n",
              "        google.colab.kernel.accessAllowed ? 'block' : 'none';\n",
              "    })();\n",
              "  </script>\n",
              "</div>\n",
              "    </div>\n",
              "  </div>\n"
            ]
          },
          "metadata": {},
          "execution_count": 280
        }
      ]
    },
    {
      "cell_type": "code",
      "source": [
        "lr_pred"
      ],
      "metadata": {
        "id": "Cd0tagf28R9y",
        "colab": {
          "base_uri": "https://localhost:8080/",
          "height": 423
        },
        "outputId": "fcc4a75d-6cf9-4ec8-c019-8d89ab3cc2f5"
      },
      "execution_count": 288,
      "outputs": [
        {
          "output_type": "execute_result",
          "data": {
            "text/plain": [
              "         0\n",
              "0      0.0\n",
              "1      1.0\n",
              "2      1.0\n",
              "3      1.0\n",
              "4      1.0\n",
              "...    ...\n",
              "10716  0.0\n",
              "10717  1.0\n",
              "10718  1.0\n",
              "10719  1.0\n",
              "10720  1.0\n",
              "\n",
              "[10721 rows x 1 columns]"
            ],
            "text/html": [
              "\n",
              "  <div id=\"df-c12b39f6-7db9-4c2c-9b73-90ee0c245dad\" class=\"colab-df-container\">\n",
              "    <div>\n",
              "<style scoped>\n",
              "    .dataframe tbody tr th:only-of-type {\n",
              "        vertical-align: middle;\n",
              "    }\n",
              "\n",
              "    .dataframe tbody tr th {\n",
              "        vertical-align: top;\n",
              "    }\n",
              "\n",
              "    .dataframe thead th {\n",
              "        text-align: right;\n",
              "    }\n",
              "</style>\n",
              "<table border=\"1\" class=\"dataframe\">\n",
              "  <thead>\n",
              "    <tr style=\"text-align: right;\">\n",
              "      <th></th>\n",
              "      <th>0</th>\n",
              "    </tr>\n",
              "  </thead>\n",
              "  <tbody>\n",
              "    <tr>\n",
              "      <th>0</th>\n",
              "      <td>0.0</td>\n",
              "    </tr>\n",
              "    <tr>\n",
              "      <th>1</th>\n",
              "      <td>1.0</td>\n",
              "    </tr>\n",
              "    <tr>\n",
              "      <th>2</th>\n",
              "      <td>1.0</td>\n",
              "    </tr>\n",
              "    <tr>\n",
              "      <th>3</th>\n",
              "      <td>1.0</td>\n",
              "    </tr>\n",
              "    <tr>\n",
              "      <th>4</th>\n",
              "      <td>1.0</td>\n",
              "    </tr>\n",
              "    <tr>\n",
              "      <th>...</th>\n",
              "      <td>...</td>\n",
              "    </tr>\n",
              "    <tr>\n",
              "      <th>10716</th>\n",
              "      <td>0.0</td>\n",
              "    </tr>\n",
              "    <tr>\n",
              "      <th>10717</th>\n",
              "      <td>1.0</td>\n",
              "    </tr>\n",
              "    <tr>\n",
              "      <th>10718</th>\n",
              "      <td>1.0</td>\n",
              "    </tr>\n",
              "    <tr>\n",
              "      <th>10719</th>\n",
              "      <td>1.0</td>\n",
              "    </tr>\n",
              "    <tr>\n",
              "      <th>10720</th>\n",
              "      <td>1.0</td>\n",
              "    </tr>\n",
              "  </tbody>\n",
              "</table>\n",
              "<p>10721 rows × 1 columns</p>\n",
              "</div>\n",
              "    <div class=\"colab-df-buttons\">\n",
              "\n",
              "  <div class=\"colab-df-container\">\n",
              "    <button class=\"colab-df-convert\" onclick=\"convertToInteractive('df-c12b39f6-7db9-4c2c-9b73-90ee0c245dad')\"\n",
              "            title=\"Convert this dataframe to an interactive table.\"\n",
              "            style=\"display:none;\">\n",
              "\n",
              "  <svg xmlns=\"http://www.w3.org/2000/svg\" height=\"24px\" viewBox=\"0 -960 960 960\">\n",
              "    <path d=\"M120-120v-720h720v720H120Zm60-500h600v-160H180v160Zm220 220h160v-160H400v160Zm0 220h160v-160H400v160ZM180-400h160v-160H180v160Zm440 0h160v-160H620v160ZM180-180h160v-160H180v160Zm440 0h160v-160H620v160Z\"/>\n",
              "  </svg>\n",
              "    </button>\n",
              "\n",
              "  <style>\n",
              "    .colab-df-container {\n",
              "      display:flex;\n",
              "      gap: 12px;\n",
              "    }\n",
              "\n",
              "    .colab-df-convert {\n",
              "      background-color: #E8F0FE;\n",
              "      border: none;\n",
              "      border-radius: 50%;\n",
              "      cursor: pointer;\n",
              "      display: none;\n",
              "      fill: #1967D2;\n",
              "      height: 32px;\n",
              "      padding: 0 0 0 0;\n",
              "      width: 32px;\n",
              "    }\n",
              "\n",
              "    .colab-df-convert:hover {\n",
              "      background-color: #E2EBFA;\n",
              "      box-shadow: 0px 1px 2px rgba(60, 64, 67, 0.3), 0px 1px 3px 1px rgba(60, 64, 67, 0.15);\n",
              "      fill: #174EA6;\n",
              "    }\n",
              "\n",
              "    .colab-df-buttons div {\n",
              "      margin-bottom: 4px;\n",
              "    }\n",
              "\n",
              "    [theme=dark] .colab-df-convert {\n",
              "      background-color: #3B4455;\n",
              "      fill: #D2E3FC;\n",
              "    }\n",
              "\n",
              "    [theme=dark] .colab-df-convert:hover {\n",
              "      background-color: #434B5C;\n",
              "      box-shadow: 0px 1px 3px 1px rgba(0, 0, 0, 0.15);\n",
              "      filter: drop-shadow(0px 1px 2px rgba(0, 0, 0, 0.3));\n",
              "      fill: #FFFFFF;\n",
              "    }\n",
              "  </style>\n",
              "\n",
              "    <script>\n",
              "      const buttonEl =\n",
              "        document.querySelector('#df-c12b39f6-7db9-4c2c-9b73-90ee0c245dad button.colab-df-convert');\n",
              "      buttonEl.style.display =\n",
              "        google.colab.kernel.accessAllowed ? 'block' : 'none';\n",
              "\n",
              "      async function convertToInteractive(key) {\n",
              "        const element = document.querySelector('#df-c12b39f6-7db9-4c2c-9b73-90ee0c245dad');\n",
              "        const dataTable =\n",
              "          await google.colab.kernel.invokeFunction('convertToInteractive',\n",
              "                                                    [key], {});\n",
              "        if (!dataTable) return;\n",
              "\n",
              "        const docLinkHtml = 'Like what you see? Visit the ' +\n",
              "          '<a target=\"_blank\" href=https://colab.research.google.com/notebooks/data_table.ipynb>data table notebook</a>'\n",
              "          + ' to learn more about interactive tables.';\n",
              "        element.innerHTML = '';\n",
              "        dataTable['output_type'] = 'display_data';\n",
              "        await google.colab.output.renderOutput(dataTable, element);\n",
              "        const docLink = document.createElement('div');\n",
              "        docLink.innerHTML = docLinkHtml;\n",
              "        element.appendChild(docLink);\n",
              "      }\n",
              "    </script>\n",
              "  </div>\n",
              "\n",
              "\n",
              "<div id=\"df-470295f5-7aaa-44ad-903d-4463a4a66b53\">\n",
              "  <button class=\"colab-df-quickchart\" onclick=\"quickchart('df-470295f5-7aaa-44ad-903d-4463a4a66b53')\"\n",
              "            title=\"Suggest charts.\"\n",
              "            style=\"display:none;\">\n",
              "\n",
              "<svg xmlns=\"http://www.w3.org/2000/svg\" height=\"24px\"viewBox=\"0 0 24 24\"\n",
              "     width=\"24px\">\n",
              "    <g>\n",
              "        <path d=\"M19 3H5c-1.1 0-2 .9-2 2v14c0 1.1.9 2 2 2h14c1.1 0 2-.9 2-2V5c0-1.1-.9-2-2-2zM9 17H7v-7h2v7zm4 0h-2V7h2v10zm4 0h-2v-4h2v4z\"/>\n",
              "    </g>\n",
              "</svg>\n",
              "  </button>\n",
              "\n",
              "<style>\n",
              "  .colab-df-quickchart {\n",
              "      --bg-color: #E8F0FE;\n",
              "      --fill-color: #1967D2;\n",
              "      --hover-bg-color: #E2EBFA;\n",
              "      --hover-fill-color: #174EA6;\n",
              "      --disabled-fill-color: #AAA;\n",
              "      --disabled-bg-color: #DDD;\n",
              "  }\n",
              "\n",
              "  [theme=dark] .colab-df-quickchart {\n",
              "      --bg-color: #3B4455;\n",
              "      --fill-color: #D2E3FC;\n",
              "      --hover-bg-color: #434B5C;\n",
              "      --hover-fill-color: #FFFFFF;\n",
              "      --disabled-bg-color: #3B4455;\n",
              "      --disabled-fill-color: #666;\n",
              "  }\n",
              "\n",
              "  .colab-df-quickchart {\n",
              "    background-color: var(--bg-color);\n",
              "    border: none;\n",
              "    border-radius: 50%;\n",
              "    cursor: pointer;\n",
              "    display: none;\n",
              "    fill: var(--fill-color);\n",
              "    height: 32px;\n",
              "    padding: 0;\n",
              "    width: 32px;\n",
              "  }\n",
              "\n",
              "  .colab-df-quickchart:hover {\n",
              "    background-color: var(--hover-bg-color);\n",
              "    box-shadow: 0 1px 2px rgba(60, 64, 67, 0.3), 0 1px 3px 1px rgba(60, 64, 67, 0.15);\n",
              "    fill: var(--button-hover-fill-color);\n",
              "  }\n",
              "\n",
              "  .colab-df-quickchart-complete:disabled,\n",
              "  .colab-df-quickchart-complete:disabled:hover {\n",
              "    background-color: var(--disabled-bg-color);\n",
              "    fill: var(--disabled-fill-color);\n",
              "    box-shadow: none;\n",
              "  }\n",
              "\n",
              "  .colab-df-spinner {\n",
              "    border: 2px solid var(--fill-color);\n",
              "    border-color: transparent;\n",
              "    border-bottom-color: var(--fill-color);\n",
              "    animation:\n",
              "      spin 1s steps(1) infinite;\n",
              "  }\n",
              "\n",
              "  @keyframes spin {\n",
              "    0% {\n",
              "      border-color: transparent;\n",
              "      border-bottom-color: var(--fill-color);\n",
              "      border-left-color: var(--fill-color);\n",
              "    }\n",
              "    20% {\n",
              "      border-color: transparent;\n",
              "      border-left-color: var(--fill-color);\n",
              "      border-top-color: var(--fill-color);\n",
              "    }\n",
              "    30% {\n",
              "      border-color: transparent;\n",
              "      border-left-color: var(--fill-color);\n",
              "      border-top-color: var(--fill-color);\n",
              "      border-right-color: var(--fill-color);\n",
              "    }\n",
              "    40% {\n",
              "      border-color: transparent;\n",
              "      border-right-color: var(--fill-color);\n",
              "      border-top-color: var(--fill-color);\n",
              "    }\n",
              "    60% {\n",
              "      border-color: transparent;\n",
              "      border-right-color: var(--fill-color);\n",
              "    }\n",
              "    80% {\n",
              "      border-color: transparent;\n",
              "      border-right-color: var(--fill-color);\n",
              "      border-bottom-color: var(--fill-color);\n",
              "    }\n",
              "    90% {\n",
              "      border-color: transparent;\n",
              "      border-bottom-color: var(--fill-color);\n",
              "    }\n",
              "  }\n",
              "</style>\n",
              "\n",
              "  <script>\n",
              "    async function quickchart(key) {\n",
              "      const quickchartButtonEl =\n",
              "        document.querySelector('#' + key + ' button');\n",
              "      quickchartButtonEl.disabled = true;  // To prevent multiple clicks.\n",
              "      quickchartButtonEl.classList.add('colab-df-spinner');\n",
              "      try {\n",
              "        const charts = await google.colab.kernel.invokeFunction(\n",
              "            'suggestCharts', [key], {});\n",
              "      } catch (error) {\n",
              "        console.error('Error during call to suggestCharts:', error);\n",
              "      }\n",
              "      quickchartButtonEl.classList.remove('colab-df-spinner');\n",
              "      quickchartButtonEl.classList.add('colab-df-quickchart-complete');\n",
              "    }\n",
              "    (() => {\n",
              "      let quickchartButtonEl =\n",
              "        document.querySelector('#df-470295f5-7aaa-44ad-903d-4463a4a66b53 button');\n",
              "      quickchartButtonEl.style.display =\n",
              "        google.colab.kernel.accessAllowed ? 'block' : 'none';\n",
              "    })();\n",
              "  </script>\n",
              "</div>\n",
              "    </div>\n",
              "  </div>\n"
            ]
          },
          "metadata": {},
          "execution_count": 288
        }
      ]
    },
    {
      "cell_type": "code",
      "source": [
        "gnb_pred"
      ],
      "metadata": {
        "id": "R4QFgX4s8YqW",
        "colab": {
          "base_uri": "https://localhost:8080/",
          "height": 423
        },
        "outputId": "ed38f5d1-e880-4079-ba1f-6b4e5397127a"
      },
      "execution_count": 289,
      "outputs": [
        {
          "output_type": "execute_result",
          "data": {
            "text/plain": [
              "         0\n",
              "0      0.0\n",
              "1      1.0\n",
              "2      1.0\n",
              "3      1.0\n",
              "4      1.0\n",
              "...    ...\n",
              "10716  0.0\n",
              "10717  0.0\n",
              "10718  1.0\n",
              "10719  1.0\n",
              "10720  0.0\n",
              "\n",
              "[10721 rows x 1 columns]"
            ],
            "text/html": [
              "\n",
              "  <div id=\"df-696b589d-aba1-4c18-aab4-99b1af094c10\" class=\"colab-df-container\">\n",
              "    <div>\n",
              "<style scoped>\n",
              "    .dataframe tbody tr th:only-of-type {\n",
              "        vertical-align: middle;\n",
              "    }\n",
              "\n",
              "    .dataframe tbody tr th {\n",
              "        vertical-align: top;\n",
              "    }\n",
              "\n",
              "    .dataframe thead th {\n",
              "        text-align: right;\n",
              "    }\n",
              "</style>\n",
              "<table border=\"1\" class=\"dataframe\">\n",
              "  <thead>\n",
              "    <tr style=\"text-align: right;\">\n",
              "      <th></th>\n",
              "      <th>0</th>\n",
              "    </tr>\n",
              "  </thead>\n",
              "  <tbody>\n",
              "    <tr>\n",
              "      <th>0</th>\n",
              "      <td>0.0</td>\n",
              "    </tr>\n",
              "    <tr>\n",
              "      <th>1</th>\n",
              "      <td>1.0</td>\n",
              "    </tr>\n",
              "    <tr>\n",
              "      <th>2</th>\n",
              "      <td>1.0</td>\n",
              "    </tr>\n",
              "    <tr>\n",
              "      <th>3</th>\n",
              "      <td>1.0</td>\n",
              "    </tr>\n",
              "    <tr>\n",
              "      <th>4</th>\n",
              "      <td>1.0</td>\n",
              "    </tr>\n",
              "    <tr>\n",
              "      <th>...</th>\n",
              "      <td>...</td>\n",
              "    </tr>\n",
              "    <tr>\n",
              "      <th>10716</th>\n",
              "      <td>0.0</td>\n",
              "    </tr>\n",
              "    <tr>\n",
              "      <th>10717</th>\n",
              "      <td>0.0</td>\n",
              "    </tr>\n",
              "    <tr>\n",
              "      <th>10718</th>\n",
              "      <td>1.0</td>\n",
              "    </tr>\n",
              "    <tr>\n",
              "      <th>10719</th>\n",
              "      <td>1.0</td>\n",
              "    </tr>\n",
              "    <tr>\n",
              "      <th>10720</th>\n",
              "      <td>0.0</td>\n",
              "    </tr>\n",
              "  </tbody>\n",
              "</table>\n",
              "<p>10721 rows × 1 columns</p>\n",
              "</div>\n",
              "    <div class=\"colab-df-buttons\">\n",
              "\n",
              "  <div class=\"colab-df-container\">\n",
              "    <button class=\"colab-df-convert\" onclick=\"convertToInteractive('df-696b589d-aba1-4c18-aab4-99b1af094c10')\"\n",
              "            title=\"Convert this dataframe to an interactive table.\"\n",
              "            style=\"display:none;\">\n",
              "\n",
              "  <svg xmlns=\"http://www.w3.org/2000/svg\" height=\"24px\" viewBox=\"0 -960 960 960\">\n",
              "    <path d=\"M120-120v-720h720v720H120Zm60-500h600v-160H180v160Zm220 220h160v-160H400v160Zm0 220h160v-160H400v160ZM180-400h160v-160H180v160Zm440 0h160v-160H620v160ZM180-180h160v-160H180v160Zm440 0h160v-160H620v160Z\"/>\n",
              "  </svg>\n",
              "    </button>\n",
              "\n",
              "  <style>\n",
              "    .colab-df-container {\n",
              "      display:flex;\n",
              "      gap: 12px;\n",
              "    }\n",
              "\n",
              "    .colab-df-convert {\n",
              "      background-color: #E8F0FE;\n",
              "      border: none;\n",
              "      border-radius: 50%;\n",
              "      cursor: pointer;\n",
              "      display: none;\n",
              "      fill: #1967D2;\n",
              "      height: 32px;\n",
              "      padding: 0 0 0 0;\n",
              "      width: 32px;\n",
              "    }\n",
              "\n",
              "    .colab-df-convert:hover {\n",
              "      background-color: #E2EBFA;\n",
              "      box-shadow: 0px 1px 2px rgba(60, 64, 67, 0.3), 0px 1px 3px 1px rgba(60, 64, 67, 0.15);\n",
              "      fill: #174EA6;\n",
              "    }\n",
              "\n",
              "    .colab-df-buttons div {\n",
              "      margin-bottom: 4px;\n",
              "    }\n",
              "\n",
              "    [theme=dark] .colab-df-convert {\n",
              "      background-color: #3B4455;\n",
              "      fill: #D2E3FC;\n",
              "    }\n",
              "\n",
              "    [theme=dark] .colab-df-convert:hover {\n",
              "      background-color: #434B5C;\n",
              "      box-shadow: 0px 1px 3px 1px rgba(0, 0, 0, 0.15);\n",
              "      filter: drop-shadow(0px 1px 2px rgba(0, 0, 0, 0.3));\n",
              "      fill: #FFFFFF;\n",
              "    }\n",
              "  </style>\n",
              "\n",
              "    <script>\n",
              "      const buttonEl =\n",
              "        document.querySelector('#df-696b589d-aba1-4c18-aab4-99b1af094c10 button.colab-df-convert');\n",
              "      buttonEl.style.display =\n",
              "        google.colab.kernel.accessAllowed ? 'block' : 'none';\n",
              "\n",
              "      async function convertToInteractive(key) {\n",
              "        const element = document.querySelector('#df-696b589d-aba1-4c18-aab4-99b1af094c10');\n",
              "        const dataTable =\n",
              "          await google.colab.kernel.invokeFunction('convertToInteractive',\n",
              "                                                    [key], {});\n",
              "        if (!dataTable) return;\n",
              "\n",
              "        const docLinkHtml = 'Like what you see? Visit the ' +\n",
              "          '<a target=\"_blank\" href=https://colab.research.google.com/notebooks/data_table.ipynb>data table notebook</a>'\n",
              "          + ' to learn more about interactive tables.';\n",
              "        element.innerHTML = '';\n",
              "        dataTable['output_type'] = 'display_data';\n",
              "        await google.colab.output.renderOutput(dataTable, element);\n",
              "        const docLink = document.createElement('div');\n",
              "        docLink.innerHTML = docLinkHtml;\n",
              "        element.appendChild(docLink);\n",
              "      }\n",
              "    </script>\n",
              "  </div>\n",
              "\n",
              "\n",
              "<div id=\"df-e0fb939c-a147-422c-a897-c9a38be3f7b1\">\n",
              "  <button class=\"colab-df-quickchart\" onclick=\"quickchart('df-e0fb939c-a147-422c-a897-c9a38be3f7b1')\"\n",
              "            title=\"Suggest charts.\"\n",
              "            style=\"display:none;\">\n",
              "\n",
              "<svg xmlns=\"http://www.w3.org/2000/svg\" height=\"24px\"viewBox=\"0 0 24 24\"\n",
              "     width=\"24px\">\n",
              "    <g>\n",
              "        <path d=\"M19 3H5c-1.1 0-2 .9-2 2v14c0 1.1.9 2 2 2h14c1.1 0 2-.9 2-2V5c0-1.1-.9-2-2-2zM9 17H7v-7h2v7zm4 0h-2V7h2v10zm4 0h-2v-4h2v4z\"/>\n",
              "    </g>\n",
              "</svg>\n",
              "  </button>\n",
              "\n",
              "<style>\n",
              "  .colab-df-quickchart {\n",
              "      --bg-color: #E8F0FE;\n",
              "      --fill-color: #1967D2;\n",
              "      --hover-bg-color: #E2EBFA;\n",
              "      --hover-fill-color: #174EA6;\n",
              "      --disabled-fill-color: #AAA;\n",
              "      --disabled-bg-color: #DDD;\n",
              "  }\n",
              "\n",
              "  [theme=dark] .colab-df-quickchart {\n",
              "      --bg-color: #3B4455;\n",
              "      --fill-color: #D2E3FC;\n",
              "      --hover-bg-color: #434B5C;\n",
              "      --hover-fill-color: #FFFFFF;\n",
              "      --disabled-bg-color: #3B4455;\n",
              "      --disabled-fill-color: #666;\n",
              "  }\n",
              "\n",
              "  .colab-df-quickchart {\n",
              "    background-color: var(--bg-color);\n",
              "    border: none;\n",
              "    border-radius: 50%;\n",
              "    cursor: pointer;\n",
              "    display: none;\n",
              "    fill: var(--fill-color);\n",
              "    height: 32px;\n",
              "    padding: 0;\n",
              "    width: 32px;\n",
              "  }\n",
              "\n",
              "  .colab-df-quickchart:hover {\n",
              "    background-color: var(--hover-bg-color);\n",
              "    box-shadow: 0 1px 2px rgba(60, 64, 67, 0.3), 0 1px 3px 1px rgba(60, 64, 67, 0.15);\n",
              "    fill: var(--button-hover-fill-color);\n",
              "  }\n",
              "\n",
              "  .colab-df-quickchart-complete:disabled,\n",
              "  .colab-df-quickchart-complete:disabled:hover {\n",
              "    background-color: var(--disabled-bg-color);\n",
              "    fill: var(--disabled-fill-color);\n",
              "    box-shadow: none;\n",
              "  }\n",
              "\n",
              "  .colab-df-spinner {\n",
              "    border: 2px solid var(--fill-color);\n",
              "    border-color: transparent;\n",
              "    border-bottom-color: var(--fill-color);\n",
              "    animation:\n",
              "      spin 1s steps(1) infinite;\n",
              "  }\n",
              "\n",
              "  @keyframes spin {\n",
              "    0% {\n",
              "      border-color: transparent;\n",
              "      border-bottom-color: var(--fill-color);\n",
              "      border-left-color: var(--fill-color);\n",
              "    }\n",
              "    20% {\n",
              "      border-color: transparent;\n",
              "      border-left-color: var(--fill-color);\n",
              "      border-top-color: var(--fill-color);\n",
              "    }\n",
              "    30% {\n",
              "      border-color: transparent;\n",
              "      border-left-color: var(--fill-color);\n",
              "      border-top-color: var(--fill-color);\n",
              "      border-right-color: var(--fill-color);\n",
              "    }\n",
              "    40% {\n",
              "      border-color: transparent;\n",
              "      border-right-color: var(--fill-color);\n",
              "      border-top-color: var(--fill-color);\n",
              "    }\n",
              "    60% {\n",
              "      border-color: transparent;\n",
              "      border-right-color: var(--fill-color);\n",
              "    }\n",
              "    80% {\n",
              "      border-color: transparent;\n",
              "      border-right-color: var(--fill-color);\n",
              "      border-bottom-color: var(--fill-color);\n",
              "    }\n",
              "    90% {\n",
              "      border-color: transparent;\n",
              "      border-bottom-color: var(--fill-color);\n",
              "    }\n",
              "  }\n",
              "</style>\n",
              "\n",
              "  <script>\n",
              "    async function quickchart(key) {\n",
              "      const quickchartButtonEl =\n",
              "        document.querySelector('#' + key + ' button');\n",
              "      quickchartButtonEl.disabled = true;  // To prevent multiple clicks.\n",
              "      quickchartButtonEl.classList.add('colab-df-spinner');\n",
              "      try {\n",
              "        const charts = await google.colab.kernel.invokeFunction(\n",
              "            'suggestCharts', [key], {});\n",
              "      } catch (error) {\n",
              "        console.error('Error during call to suggestCharts:', error);\n",
              "      }\n",
              "      quickchartButtonEl.classList.remove('colab-df-spinner');\n",
              "      quickchartButtonEl.classList.add('colab-df-quickchart-complete');\n",
              "    }\n",
              "    (() => {\n",
              "      let quickchartButtonEl =\n",
              "        document.querySelector('#df-e0fb939c-a147-422c-a897-c9a38be3f7b1 button');\n",
              "      quickchartButtonEl.style.display =\n",
              "        google.colab.kernel.accessAllowed ? 'block' : 'none';\n",
              "    })();\n",
              "  </script>\n",
              "</div>\n",
              "    </div>\n",
              "  </div>\n"
            ]
          },
          "metadata": {},
          "execution_count": 289
        }
      ]
    },
    {
      "cell_type": "code",
      "source": [
        "session.privacy_odometer()"
      ],
      "metadata": {
        "colab": {
          "base_uri": "https://localhost:8080/"
        },
        "id": "Mm-8J3IvUyXd",
        "outputId": "6420ebff-05bd-48c9-db0a-897e7a287ca2"
      },
      "execution_count": 221,
      "outputs": [
        {
          "output_type": "execute_result",
          "data": {
            "text/plain": [
              "{'total_epsilon_used': 161.99999999999994,\n",
              " 'total_delta_used': 0.0,\n",
              " 'library_costs': {'op_pandas': {'total_delta': 0,\n",
              "   'total_epsilon': 161.99999999999994,\n",
              "   'total_requests': 95},\n",
              "  'op_dpl': {'total_delta': 0, 'total_epsilon': 0, 'total_requests': 11}},\n",
              " 'dataset_costs': {'undata_ls': {'delta': 0, 'eps': 4.999999999999993},\n",
              "  'undata_ls_dif': {'delta': 0, 'eps': 5.999999999999993},\n",
              "  'undata_fcs': {'delta': 0, 'eps': 32.999999999999986},\n",
              "  'undata_fies': {'delta': 0, 'eps': 30.99999999999999},\n",
              "  'undata_shock': {'delta': 0, 'eps': 32.999999999999986},\n",
              "  'undata_income': {'delta': 0, 'eps': 37.999999999999986},\n",
              "  'undata_adm': {'delta': 0, 'eps': 15.999999999999998}}}"
            ]
          },
          "metadata": {},
          "execution_count": 221
        }
      ]
    }
  ]
}